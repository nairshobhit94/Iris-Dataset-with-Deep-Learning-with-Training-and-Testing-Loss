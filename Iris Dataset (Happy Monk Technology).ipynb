{
 "cells": [
  {
   "cell_type": "markdown",
   "metadata": {},
   "source": [
    "# Importing the Important Libraries"
   ]
  },
  {
   "cell_type": "code",
   "execution_count": 1,
   "metadata": {},
   "outputs": [
    {
     "name": "stderr",
     "output_type": "stream",
     "text": [
      "C:\\Users\\Robinhood\\Anaconda3\\lib\\site-packages\\h5py\\__init__.py:36: FutureWarning: Conversion of the second argument of issubdtype from `float` to `np.floating` is deprecated. In future, it will be treated as `np.float64 == np.dtype(float).type`.\n",
      "  from ._conv import register_converters as _register_converters\n",
      "Using TensorFlow backend.\n"
     ]
    }
   ],
   "source": [
    "import pandas as pd\n",
    "import numpy as np\n",
    "import keras\n",
    "from keras.models import Sequential\n",
    "from keras.layers import Dense\n",
    "import matplotlib.pyplot as plt\n",
    "import seaborn as sns\n",
    "\n",
    "from sklearn.preprocessing import StandardScaler\n",
    "from sklearn.model_selection import train_test_split\n",
    "from sklearn.metrics import f1_score, roc_auc_score, log_loss\n",
    "from sklearn.model_selection import cross_val_score, cross_validate"
   ]
  },
  {
   "cell_type": "markdown",
   "metadata": {},
   "source": [
    "# Loading the Dataset"
   ]
  },
  {
   "cell_type": "code",
   "execution_count": 2,
   "metadata": {},
   "outputs": [],
   "source": [
    "iris=pd.read_csv(\"iris.csv\")"
   ]
  },
  {
   "cell_type": "markdown",
   "metadata": {},
   "source": [
    "# Reading the Dataset"
   ]
  },
  {
   "cell_type": "code",
   "execution_count": 3,
   "metadata": {},
   "outputs": [
    {
     "data": {
      "text/html": [
       "<div>\n",
       "<style scoped>\n",
       "    .dataframe tbody tr th:only-of-type {\n",
       "        vertical-align: middle;\n",
       "    }\n",
       "\n",
       "    .dataframe tbody tr th {\n",
       "        vertical-align: top;\n",
       "    }\n",
       "\n",
       "    .dataframe thead th {\n",
       "        text-align: right;\n",
       "    }\n",
       "</style>\n",
       "<table border=\"1\" class=\"dataframe\">\n",
       "  <thead>\n",
       "    <tr style=\"text-align: right;\">\n",
       "      <th></th>\n",
       "      <th>Id</th>\n",
       "      <th>SepalLengthCm</th>\n",
       "      <th>SepalWidthCm</th>\n",
       "      <th>PetalLengthCm</th>\n",
       "      <th>PetalWidthCm</th>\n",
       "      <th>Species</th>\n",
       "    </tr>\n",
       "  </thead>\n",
       "  <tbody>\n",
       "    <tr>\n",
       "      <th>0</th>\n",
       "      <td>1</td>\n",
       "      <td>5.1</td>\n",
       "      <td>3.5</td>\n",
       "      <td>1.4</td>\n",
       "      <td>0.2</td>\n",
       "      <td>Iris-setosa</td>\n",
       "    </tr>\n",
       "    <tr>\n",
       "      <th>1</th>\n",
       "      <td>2</td>\n",
       "      <td>4.9</td>\n",
       "      <td>3.0</td>\n",
       "      <td>1.4</td>\n",
       "      <td>0.2</td>\n",
       "      <td>Iris-setosa</td>\n",
       "    </tr>\n",
       "    <tr>\n",
       "      <th>2</th>\n",
       "      <td>3</td>\n",
       "      <td>4.7</td>\n",
       "      <td>3.2</td>\n",
       "      <td>1.3</td>\n",
       "      <td>0.2</td>\n",
       "      <td>Iris-setosa</td>\n",
       "    </tr>\n",
       "    <tr>\n",
       "      <th>3</th>\n",
       "      <td>4</td>\n",
       "      <td>4.6</td>\n",
       "      <td>3.1</td>\n",
       "      <td>1.5</td>\n",
       "      <td>0.2</td>\n",
       "      <td>Iris-setosa</td>\n",
       "    </tr>\n",
       "    <tr>\n",
       "      <th>4</th>\n",
       "      <td>5</td>\n",
       "      <td>5.0</td>\n",
       "      <td>3.6</td>\n",
       "      <td>1.4</td>\n",
       "      <td>0.2</td>\n",
       "      <td>Iris-setosa</td>\n",
       "    </tr>\n",
       "    <tr>\n",
       "      <th>5</th>\n",
       "      <td>6</td>\n",
       "      <td>5.4</td>\n",
       "      <td>3.9</td>\n",
       "      <td>1.7</td>\n",
       "      <td>0.4</td>\n",
       "      <td>Iris-setosa</td>\n",
       "    </tr>\n",
       "    <tr>\n",
       "      <th>6</th>\n",
       "      <td>7</td>\n",
       "      <td>4.6</td>\n",
       "      <td>3.4</td>\n",
       "      <td>1.4</td>\n",
       "      <td>0.3</td>\n",
       "      <td>Iris-setosa</td>\n",
       "    </tr>\n",
       "    <tr>\n",
       "      <th>7</th>\n",
       "      <td>8</td>\n",
       "      <td>5.0</td>\n",
       "      <td>3.4</td>\n",
       "      <td>1.5</td>\n",
       "      <td>0.2</td>\n",
       "      <td>Iris-setosa</td>\n",
       "    </tr>\n",
       "    <tr>\n",
       "      <th>8</th>\n",
       "      <td>9</td>\n",
       "      <td>4.4</td>\n",
       "      <td>2.9</td>\n",
       "      <td>1.4</td>\n",
       "      <td>0.2</td>\n",
       "      <td>Iris-setosa</td>\n",
       "    </tr>\n",
       "    <tr>\n",
       "      <th>9</th>\n",
       "      <td>10</td>\n",
       "      <td>4.9</td>\n",
       "      <td>3.1</td>\n",
       "      <td>1.5</td>\n",
       "      <td>0.1</td>\n",
       "      <td>Iris-setosa</td>\n",
       "    </tr>\n",
       "    <tr>\n",
       "      <th>10</th>\n",
       "      <td>11</td>\n",
       "      <td>5.4</td>\n",
       "      <td>3.7</td>\n",
       "      <td>1.5</td>\n",
       "      <td>0.2</td>\n",
       "      <td>Iris-setosa</td>\n",
       "    </tr>\n",
       "    <tr>\n",
       "      <th>11</th>\n",
       "      <td>12</td>\n",
       "      <td>4.8</td>\n",
       "      <td>3.4</td>\n",
       "      <td>1.6</td>\n",
       "      <td>0.2</td>\n",
       "      <td>Iris-setosa</td>\n",
       "    </tr>\n",
       "    <tr>\n",
       "      <th>12</th>\n",
       "      <td>13</td>\n",
       "      <td>4.8</td>\n",
       "      <td>3.0</td>\n",
       "      <td>1.4</td>\n",
       "      <td>0.1</td>\n",
       "      <td>Iris-setosa</td>\n",
       "    </tr>\n",
       "    <tr>\n",
       "      <th>13</th>\n",
       "      <td>14</td>\n",
       "      <td>4.3</td>\n",
       "      <td>3.0</td>\n",
       "      <td>1.1</td>\n",
       "      <td>0.1</td>\n",
       "      <td>Iris-setosa</td>\n",
       "    </tr>\n",
       "    <tr>\n",
       "      <th>14</th>\n",
       "      <td>15</td>\n",
       "      <td>5.8</td>\n",
       "      <td>4.0</td>\n",
       "      <td>1.2</td>\n",
       "      <td>0.2</td>\n",
       "      <td>Iris-setosa</td>\n",
       "    </tr>\n",
       "    <tr>\n",
       "      <th>15</th>\n",
       "      <td>16</td>\n",
       "      <td>5.7</td>\n",
       "      <td>4.4</td>\n",
       "      <td>1.5</td>\n",
       "      <td>0.4</td>\n",
       "      <td>Iris-setosa</td>\n",
       "    </tr>\n",
       "    <tr>\n",
       "      <th>16</th>\n",
       "      <td>17</td>\n",
       "      <td>5.4</td>\n",
       "      <td>3.9</td>\n",
       "      <td>1.3</td>\n",
       "      <td>0.4</td>\n",
       "      <td>Iris-setosa</td>\n",
       "    </tr>\n",
       "    <tr>\n",
       "      <th>17</th>\n",
       "      <td>18</td>\n",
       "      <td>5.1</td>\n",
       "      <td>3.5</td>\n",
       "      <td>1.4</td>\n",
       "      <td>0.3</td>\n",
       "      <td>Iris-setosa</td>\n",
       "    </tr>\n",
       "    <tr>\n",
       "      <th>18</th>\n",
       "      <td>19</td>\n",
       "      <td>5.7</td>\n",
       "      <td>3.8</td>\n",
       "      <td>1.7</td>\n",
       "      <td>0.3</td>\n",
       "      <td>Iris-setosa</td>\n",
       "    </tr>\n",
       "    <tr>\n",
       "      <th>19</th>\n",
       "      <td>20</td>\n",
       "      <td>5.1</td>\n",
       "      <td>3.8</td>\n",
       "      <td>1.5</td>\n",
       "      <td>0.3</td>\n",
       "      <td>Iris-setosa</td>\n",
       "    </tr>\n",
       "  </tbody>\n",
       "</table>\n",
       "</div>"
      ],
      "text/plain": [
       "    Id  SepalLengthCm  SepalWidthCm  PetalLengthCm  PetalWidthCm      Species\n",
       "0    1            5.1           3.5            1.4           0.2  Iris-setosa\n",
       "1    2            4.9           3.0            1.4           0.2  Iris-setosa\n",
       "2    3            4.7           3.2            1.3           0.2  Iris-setosa\n",
       "3    4            4.6           3.1            1.5           0.2  Iris-setosa\n",
       "4    5            5.0           3.6            1.4           0.2  Iris-setosa\n",
       "5    6            5.4           3.9            1.7           0.4  Iris-setosa\n",
       "6    7            4.6           3.4            1.4           0.3  Iris-setosa\n",
       "7    8            5.0           3.4            1.5           0.2  Iris-setosa\n",
       "8    9            4.4           2.9            1.4           0.2  Iris-setosa\n",
       "9   10            4.9           3.1            1.5           0.1  Iris-setosa\n",
       "10  11            5.4           3.7            1.5           0.2  Iris-setosa\n",
       "11  12            4.8           3.4            1.6           0.2  Iris-setosa\n",
       "12  13            4.8           3.0            1.4           0.1  Iris-setosa\n",
       "13  14            4.3           3.0            1.1           0.1  Iris-setosa\n",
       "14  15            5.8           4.0            1.2           0.2  Iris-setosa\n",
       "15  16            5.7           4.4            1.5           0.4  Iris-setosa\n",
       "16  17            5.4           3.9            1.3           0.4  Iris-setosa\n",
       "17  18            5.1           3.5            1.4           0.3  Iris-setosa\n",
       "18  19            5.7           3.8            1.7           0.3  Iris-setosa\n",
       "19  20            5.1           3.8            1.5           0.3  Iris-setosa"
      ]
     },
     "execution_count": 3,
     "metadata": {},
     "output_type": "execute_result"
    }
   ],
   "source": [
    "iris.head(20)"
   ]
  },
  {
   "cell_type": "markdown",
   "metadata": {},
   "source": [
    "# Shape of the Dataset"
   ]
  },
  {
   "cell_type": "code",
   "execution_count": 4,
   "metadata": {},
   "outputs": [
    {
     "data": {
      "text/plain": [
       "(150, 6)"
      ]
     },
     "execution_count": 4,
     "metadata": {},
     "output_type": "execute_result"
    }
   ],
   "source": [
    "iris.shape"
   ]
  },
  {
   "cell_type": "markdown",
   "metadata": {},
   "source": [
    "# Checking No. of Classes in Iris Dataset"
   ]
  },
  {
   "cell_type": "code",
   "execution_count": 5,
   "metadata": {},
   "outputs": [
    {
     "data": {
      "text/plain": [
       "<matplotlib.axes._subplots.AxesSubplot at 0x229c7dcd7f0>"
      ]
     },
     "execution_count": 5,
     "metadata": {},
     "output_type": "execute_result"
    },
    {
     "data": {
      "image/png": "[encoded data removed]",
      "text/plain": [
       "<Figure size 432x288 with 1 Axes>"
      ]
     },
     "metadata": {},
     "output_type": "display_data"
    }
   ],
   "source": [
    "sns.countplot(x=\"Species\", data=iris)"
   ]
  },
  {
   "cell_type": "code",
   "execution_count": 6,
   "metadata": {},
   "outputs": [
    {
     "data": {
      "text/plain": [
       "Iris-virginica     50\n",
       "Iris-setosa        50\n",
       "Iris-versicolor    50\n",
       "Name: Species, dtype: int64"
      ]
     },
     "execution_count": 6,
     "metadata": {},
     "output_type": "execute_result"
    }
   ],
   "source": [
    "iris[\"Species\"].value_counts()"
   ]
  },
  {
   "cell_type": "markdown",
   "metadata": {},
   "source": [
    "# Checking the correlation"
   ]
  },
  {
   "cell_type": "code",
   "execution_count": 7,
   "metadata": {},
   "outputs": [
    {
     "data": {
      "text/plain": [
       "<matplotlib.axes._subplots.AxesSubplot at 0x229c9ea5208>"
      ]
     },
     "execution_count": 7,
     "metadata": {},
     "output_type": "execute_result"
    },
    {
     "data": {
      "image/png": "[encoded data removed]",
      "text/plain": [
       "<Figure size 864x576 with 2 Axes>"
      ]
     },
     "metadata": {},
     "output_type": "display_data"
    }
   ],
   "source": [
    "corrmat=iris.corr()\n",
    "plt.subplots(figsize=(12,8))\n",
    "sns.heatmap(corrmat, square=True)"
   ]
  },
  {
   "cell_type": "code",
   "execution_count": 8,
   "metadata": {},
   "outputs": [
    {
     "data": {
      "text/html": [
       "<div>\n",
       "<style scoped>\n",
       "    .dataframe tbody tr th:only-of-type {\n",
       "        vertical-align: middle;\n",
       "    }\n",
       "\n",
       "    .dataframe tbody tr th {\n",
       "        vertical-align: top;\n",
       "    }\n",
       "\n",
       "    .dataframe thead th {\n",
       "        text-align: right;\n",
       "    }\n",
       "</style>\n",
       "<table border=\"1\" class=\"dataframe\">\n",
       "  <thead>\n",
       "    <tr style=\"text-align: right;\">\n",
       "      <th></th>\n",
       "      <th>Id</th>\n",
       "      <th>SepalLengthCm</th>\n",
       "      <th>SepalWidthCm</th>\n",
       "      <th>PetalLengthCm</th>\n",
       "      <th>PetalWidthCm</th>\n",
       "    </tr>\n",
       "  </thead>\n",
       "  <tbody>\n",
       "    <tr>\n",
       "      <th>Id</th>\n",
       "      <td>1.000000</td>\n",
       "      <td>0.716676</td>\n",
       "      <td>-0.397729</td>\n",
       "      <td>0.882747</td>\n",
       "      <td>0.899759</td>\n",
       "    </tr>\n",
       "    <tr>\n",
       "      <th>SepalLengthCm</th>\n",
       "      <td>0.716676</td>\n",
       "      <td>1.000000</td>\n",
       "      <td>-0.109369</td>\n",
       "      <td>0.871754</td>\n",
       "      <td>0.817954</td>\n",
       "    </tr>\n",
       "    <tr>\n",
       "      <th>SepalWidthCm</th>\n",
       "      <td>-0.397729</td>\n",
       "      <td>-0.109369</td>\n",
       "      <td>1.000000</td>\n",
       "      <td>-0.420516</td>\n",
       "      <td>-0.356544</td>\n",
       "    </tr>\n",
       "    <tr>\n",
       "      <th>PetalLengthCm</th>\n",
       "      <td>0.882747</td>\n",
       "      <td>0.871754</td>\n",
       "      <td>-0.420516</td>\n",
       "      <td>1.000000</td>\n",
       "      <td>0.962757</td>\n",
       "    </tr>\n",
       "    <tr>\n",
       "      <th>PetalWidthCm</th>\n",
       "      <td>0.899759</td>\n",
       "      <td>0.817954</td>\n",
       "      <td>-0.356544</td>\n",
       "      <td>0.962757</td>\n",
       "      <td>1.000000</td>\n",
       "    </tr>\n",
       "  </tbody>\n",
       "</table>\n",
       "</div>"
      ],
      "text/plain": [
       "                     Id  SepalLengthCm  SepalWidthCm  PetalLengthCm  \\\n",
       "Id             1.000000       0.716676     -0.397729       0.882747   \n",
       "SepalLengthCm  0.716676       1.000000     -0.109369       0.871754   \n",
       "SepalWidthCm  -0.397729      -0.109369      1.000000      -0.420516   \n",
       "PetalLengthCm  0.882747       0.871754     -0.420516       1.000000   \n",
       "PetalWidthCm   0.899759       0.817954     -0.356544       0.962757   \n",
       "\n",
       "               PetalWidthCm  \n",
       "Id                 0.899759  \n",
       "SepalLengthCm      0.817954  \n",
       "SepalWidthCm      -0.356544  \n",
       "PetalLengthCm      0.962757  \n",
       "PetalWidthCm       1.000000  "
      ]
     },
     "execution_count": 8,
     "metadata": {},
     "output_type": "execute_result"
    }
   ],
   "source": [
    "iris.corr()"
   ]
  },
  {
   "cell_type": "markdown",
   "metadata": {},
   "source": [
    "# Checking if there are any null values in the dataset"
   ]
  },
  {
   "cell_type": "code",
   "execution_count": 9,
   "metadata": {},
   "outputs": [
    {
     "data": {
      "text/plain": [
       "Id               0\n",
       "SepalLengthCm    0\n",
       "SepalWidthCm     0\n",
       "PetalLengthCm    0\n",
       "PetalWidthCm     0\n",
       "Species          0\n",
       "dtype: int64"
      ]
     },
     "execution_count": 9,
     "metadata": {},
     "output_type": "execute_result"
    }
   ],
   "source": [
    "iris.isnull().sum()"
   ]
  },
  {
   "cell_type": "code",
   "execution_count": 10,
   "metadata": {},
   "outputs": [
    {
     "name": "stdout",
     "output_type": "stream",
     "text": [
      "0    0\n",
      "1    0\n",
      "2    0\n",
      "3    0\n",
      "4    0\n",
      "Name: Species, dtype: int64\n",
      "Index(['Iris-setosa', 'Iris-versicolor', 'Iris-virginica'], dtype='object')\n"
     ]
    }
   ],
   "source": [
    "factor=pd.factorize(iris['Species'])\n",
    "iris.Species=factor[0]\n",
    "definitions=factor[1]\n",
    "print(iris.Species.head())\n",
    "print(definitions)"
   ]
  },
  {
   "cell_type": "code",
   "execution_count": 11,
   "metadata": {},
   "outputs": [],
   "source": [
    "iris.drop(\"Id\",axis=1, inplace=True)"
   ]
  },
  {
   "cell_type": "markdown",
   "metadata": {},
   "source": [
    "# Training the model using Deep learning"
   ]
  },
  {
   "cell_type": "code",
   "execution_count": 12,
   "metadata": {},
   "outputs": [],
   "source": [
    "X=iris.drop(\"Species\", axis=1)\n",
    "y=iris[\"Species\"]"
   ]
  },
  {
   "cell_type": "code",
   "execution_count": 13,
   "metadata": {},
   "outputs": [
    {
     "name": "stderr",
     "output_type": "stream",
     "text": [
      "C:\\Users\\Robinhood\\Anaconda3\\lib\\site-packages\\sklearn\\cross_validation.py:41: DeprecationWarning: This module was deprecated in version 0.18 in favor of the model_selection module into which all the refactored classes and functions are moved. Also note that the interface of the new CV iterators are different from that of this module. This module will be removed in 0.20.\n",
      "  \"This module will be removed in 0.20.\", DeprecationWarning)\n"
     ]
    }
   ],
   "source": [
    "from sklearn.cross_validation import train_test_split\n",
    "X_train, X_test,y_train, y_test=train_test_split(X, y, test_size=0.25, random_state=1)"
   ]
  },
  {
   "cell_type": "markdown",
   "metadata": {},
   "source": [
    "# Feature Scaling"
   ]
  },
  {
   "cell_type": "code",
   "execution_count": 14,
   "metadata": {},
   "outputs": [],
   "source": [
    "scaler=StandardScaler()\n",
    "X_train = scaler.fit_transform(X_train)\n",
    "X_test = scaler.transform(X_test)"
   ]
  },
  {
   "cell_type": "markdown",
   "metadata": {},
   "source": [
    "# Building an ANN model with 1 Dense Layer"
   ]
  },
  {
   "cell_type": "code",
   "execution_count": 15,
   "metadata": {},
   "outputs": [
    {
     "name": "stdout",
     "output_type": "stream",
     "text": [
      "WARNING:tensorflow:From C:\\Users\\Robinhood\\Anaconda3\\lib\\site-packages\\tensorflow\\python\\framework\\op_def_library.py:263: colocate_with (from tensorflow.python.framework.ops) is deprecated and will be removed in a future version.\n",
      "Instructions for updating:\n",
      "Colocations handled automatically by placer.\n",
      "_________________________________________________________________\n",
      "Layer (type)                 Output Shape              Param #   \n",
      "=================================================================\n",
      "dense_1 (Dense)              (None, 8)                 40        \n",
      "_________________________________________________________________\n",
      "dense_2 (Dense)              (None, 1)                 9         \n",
      "=================================================================\n",
      "Total params: 49\n",
      "Trainable params: 49\n",
      "Non-trainable params: 0\n",
      "_________________________________________________________________\n"
     ]
    }
   ],
   "source": [
    "model=Sequential()\n",
    "model.add(Dense(8, input_dim=4, activation=\"relu\"))\n",
    "model.add(Dense(1, activation=\"sigmoid\"))\n",
    "model.compile(loss=\"binary_crossentropy\",optimizer=\"adam\",metrics=[\"accuracy\"])\n",
    "model.summary()"
   ]
  },
  {
   "cell_type": "markdown",
   "metadata": {},
   "source": [
    "# Training an ANN model"
   ]
  },
  {
   "cell_type": "code",
   "execution_count": 16,
   "metadata": {},
   "outputs": [
    {
     "name": "stdout",
     "output_type": "stream",
     "text": [
      "WARNING:tensorflow:From C:\\Users\\Robinhood\\Anaconda3\\lib\\site-packages\\tensorflow\\python\\ops\\math_ops.py:3066: to_int32 (from tensorflow.python.ops.math_ops) is deprecated and will be removed in a future version.\n",
      "Instructions for updating:\n",
      "Use tf.cast instead.\n",
      "Train on 100 samples, validate on 12 samples\n",
      "Epoch 1/200\n",
      "100/100 [==============================] - 10s 101ms/step - loss: 1.1069 - acc: 0.3100 - val_loss: 0.7556 - val_acc: 0.1667\n",
      "Epoch 2/200\n",
      "100/100 [==============================] - 0s 355us/step - loss: 1.0774 - acc: 0.3100 - val_loss: 0.7268 - val_acc: 0.1667\n",
      "Epoch 3/200\n",
      "100/100 [==============================] - 0s 240us/step - loss: 1.0448 - acc: 0.3100 - val_loss: 0.6972 - val_acc: 0.2500\n",
      "Epoch 4/200\n",
      "100/100 [==============================] - 0s 160us/step - loss: 1.0159 - acc: 0.3100 - val_loss: 0.6677 - val_acc: 0.2500\n",
      "Epoch 5/200\n",
      "100/100 [==============================] - 0s 160us/step - loss: 0.9853 - acc: 0.3100 - val_loss: 0.6383 - val_acc: 0.2500\n",
      "Epoch 6/200\n",
      "100/100 [==============================] - 0s 160us/step - loss: 0.9549 - acc: 0.3100 - val_loss: 0.6097 - val_acc: 0.2500\n",
      "Epoch 7/200\n",
      "100/100 [==============================] - 0s 80us/step - loss: 0.9247 - acc: 0.3100 - val_loss: 0.5803 - val_acc: 0.2500\n",
      "Epoch 8/200\n",
      "100/100 [==============================] - 0s 80us/step - loss: 0.8942 - acc: 0.3100 - val_loss: 0.5508 - val_acc: 0.2500\n",
      "Epoch 9/200\n",
      "100/100 [==============================] - 0s 80us/step - loss: 0.8639 - acc: 0.3100 - val_loss: 0.5216 - val_acc: 0.2500\n",
      "Epoch 10/200\n",
      "100/100 [==============================] - 0s 160us/step - loss: 0.8339 - acc: 0.3100 - val_loss: 0.4926 - val_acc: 0.2500\n",
      "Epoch 11/200\n",
      "100/100 [==============================] - 0s 160us/step - loss: 0.8040 - acc: 0.3100 - val_loss: 0.4634 - val_acc: 0.2500\n",
      "Epoch 12/200\n",
      "100/100 [==============================] - 0s 80us/step - loss: 0.7740 - acc: 0.3100 - val_loss: 0.4343 - val_acc: 0.2500\n",
      "Epoch 13/200\n",
      "100/100 [==============================] - 0s 80us/step - loss: 0.7439 - acc: 0.3100 - val_loss: 0.4058 - val_acc: 0.2500\n",
      "Epoch 14/200\n",
      "100/100 [==============================] - 0s 80us/step - loss: 0.7146 - acc: 0.3100 - val_loss: 0.3766 - val_acc: 0.2500\n",
      "Epoch 15/200\n",
      "100/100 [==============================] - 0s 240us/step - loss: 0.6855 - acc: 0.3100 - val_loss: 0.3476 - val_acc: 0.2500\n",
      "Epoch 16/200\n",
      "100/100 [==============================] - 0s 240us/step - loss: 0.6556 - acc: 0.3100 - val_loss: 0.3183 - val_acc: 0.2500\n",
      "Epoch 17/200\n",
      "100/100 [==============================] - 0s 164us/step - loss: 0.6257 - acc: 0.3100 - val_loss: 0.2895 - val_acc: 0.2500\n",
      "Epoch 18/200\n",
      "100/100 [==============================] - 0s 198us/step - loss: 0.5962 - acc: 0.3100 - val_loss: 0.2605 - val_acc: 0.2500\n",
      "Epoch 19/200\n",
      "100/100 [==============================] - 0s 122us/step - loss: 0.5680 - acc: 0.3100 - val_loss: 0.2289 - val_acc: 0.2500\n",
      "Epoch 20/200\n",
      "100/100 [==============================] - 0s 182us/step - loss: 0.5381 - acc: 0.3100 - val_loss: 0.1974 - val_acc: 0.2500\n",
      "Epoch 21/200\n",
      "100/100 [==============================] - 0s 103us/step - loss: 0.5090 - acc: 0.3100 - val_loss: 0.1648 - val_acc: 0.2500\n",
      "Epoch 22/200\n",
      "100/100 [==============================] - 0s 80us/step - loss: 0.4791 - acc: 0.3100 - val_loss: 0.1322 - val_acc: 0.2500\n",
      "Epoch 23/200\n",
      "100/100 [==============================] - 0s 183us/step - loss: 0.4491 - acc: 0.3100 - val_loss: 0.1004 - val_acc: 0.2500\n",
      "Epoch 24/200\n",
      "100/100 [==============================] - 0s 179us/step - loss: 0.4206 - acc: 0.3100 - val_loss: 0.0694 - val_acc: 0.2500\n",
      "Epoch 25/200\n",
      "100/100 [==============================] - 0s 80us/step - loss: 0.3908 - acc: 0.3100 - val_loss: 0.0396 - val_acc: 0.2500\n",
      "Epoch 26/200\n",
      "100/100 [==============================] - 0s 101us/step - loss: 0.3627 - acc: 0.3100 - val_loss: 0.0081 - val_acc: 0.2500\n",
      "Epoch 27/200\n",
      "100/100 [==============================] - 0s 83us/step - loss: 0.3337 - acc: 0.3100 - val_loss: -0.0238 - val_acc: 0.2500\n",
      "Epoch 28/200\n",
      "100/100 [==============================] - 0s 168us/step - loss: 0.3033 - acc: 0.3100 - val_loss: -0.0547 - val_acc: 0.2500\n",
      "Epoch 29/200\n",
      "100/100 [==============================] - 0s 80us/step - loss: 0.2738 - acc: 0.3100 - val_loss: -0.0866 - val_acc: 0.2500\n",
      "Epoch 30/200\n",
      "100/100 [==============================] - 0s 80us/step - loss: 0.2447 - acc: 0.3100 - val_loss: -0.1178 - val_acc: 0.2500\n",
      "Epoch 31/200\n",
      "100/100 [==============================] - 0s 80us/step - loss: 0.2160 - acc: 0.3100 - val_loss: -0.1488 - val_acc: 0.2500\n",
      "Epoch 32/200\n",
      "100/100 [==============================] - 0s 80us/step - loss: 0.1878 - acc: 0.3100 - val_loss: -0.1800 - val_acc: 0.2500\n",
      "Epoch 33/200\n",
      "100/100 [==============================] - 0s 83us/step - loss: 0.1588 - acc: 0.3100 - val_loss: -0.2111 - val_acc: 0.2500\n",
      "Epoch 34/200\n",
      "100/100 [==============================] - ETA: 0s - loss: 0.1710 - acc: 0.250 - 0s 80us/step - loss: 0.1315 - acc: 0.3100 - val_loss: -0.2456 - val_acc: 0.2500\n",
      "Epoch 35/200\n",
      "100/100 [==============================] - 0s 172us/step - loss: 0.1017 - acc: 0.3100 - val_loss: -0.2796 - val_acc: 0.2500\n",
      "Epoch 36/200\n",
      "100/100 [==============================] - 0s 80us/step - loss: 0.0705 - acc: 0.3100 - val_loss: -0.3142 - val_acc: 0.2500\n",
      "Epoch 37/200\n",
      "100/100 [==============================] - 0s 80us/step - loss: 0.0399 - acc: 0.3100 - val_loss: -0.3495 - val_acc: 0.2500\n",
      "Epoch 38/200\n",
      "100/100 [==============================] - 0s 80us/step - loss: 0.0078 - acc: 0.3100 - val_loss: -0.3836 - val_acc: 0.2500\n",
      "Epoch 39/200\n",
      "100/100 [==============================] - 0s 80us/step - loss: -0.0233 - acc: 0.3100 - val_loss: -0.4167 - val_acc: 0.2500\n",
      "Epoch 40/200\n",
      "100/100 [==============================] - 0s 80us/step - loss: -0.0527 - acc: 0.3100 - val_loss: -0.4497 - val_acc: 0.2500\n",
      "Epoch 41/200\n",
      "100/100 [==============================] - 0s 80us/step - loss: -0.0826 - acc: 0.3100 - val_loss: -0.4810 - val_acc: 0.2500\n",
      "Epoch 42/200\n",
      "100/100 [==============================] - 0s 80us/step - loss: -0.1107 - acc: 0.3100 - val_loss: -0.5122 - val_acc: 0.2500\n",
      "Epoch 43/200\n",
      "100/100 [==============================] - 0s 80us/step - loss: -0.1398 - acc: 0.3100 - val_loss: -0.5436 - val_acc: 0.2500\n",
      "Epoch 44/200\n",
      "100/100 [==============================] - 0s 80us/step - loss: -0.1681 - acc: 0.3100 - val_loss: -0.5758 - val_acc: 0.2500\n",
      "Epoch 45/200\n",
      "100/100 [==============================] - 0s 80us/step - loss: -0.1961 - acc: 0.3100 - val_loss: -0.6092 - val_acc: 0.2500\n",
      "Epoch 46/200\n",
      "100/100 [==============================] - 0s 80us/step - loss: -0.2252 - acc: 0.3100 - val_loss: -0.6423 - val_acc: 0.2500\n",
      "Epoch 47/200\n",
      "100/100 [==============================] - 0s 80us/step - loss: -0.2533 - acc: 0.3100 - val_loss: -0.6747 - val_acc: 0.2500\n",
      "Epoch 48/200\n",
      "100/100 [==============================] - 0s 80us/step - loss: -0.2824 - acc: 0.3100 - val_loss: -0.7063 - val_acc: 0.2500\n",
      "Epoch 49/200\n",
      "100/100 [==============================] - 0s 80us/step - loss: -0.3097 - acc: 0.3100 - val_loss: -0.7391 - val_acc: 0.2500\n",
      "Epoch 50/200\n",
      "100/100 [==============================] - 0s 0us/step - loss: -0.3382 - acc: 0.3100 - val_loss: -0.7722 - val_acc: 0.2500\n",
      "Epoch 51/200\n",
      "100/100 [==============================] - 0s 156us/step - loss: -0.3676 - acc: 0.3100 - val_loss: -0.8052 - val_acc: 0.2500\n",
      "Epoch 52/200\n",
      "100/100 [==============================] - 0s 120us/step - loss: -0.3965 - acc: 0.3100 - val_loss: -0.8413 - val_acc: 0.2500\n",
      "Epoch 53/200\n",
      "100/100 [==============================] - 0s 156us/step - loss: -0.4273 - acc: 0.3200 - val_loss: -0.8766 - val_acc: 0.2500\n",
      "Epoch 54/200\n",
      "100/100 [==============================] - 0s 80us/step - loss: -0.4583 - acc: 0.3400 - val_loss: -0.9115 - val_acc: 0.3333\n",
      "Epoch 55/200\n",
      "100/100 [==============================] - 0s 160us/step - loss: -0.4883 - acc: 0.3700 - val_loss: -0.9473 - val_acc: 0.3333\n",
      "Epoch 56/200\n",
      "100/100 [==============================] - 0s 80us/step - loss: -0.5171 - acc: 0.3900 - val_loss: -0.9824 - val_acc: 0.5000\n",
      "Epoch 57/200\n",
      "100/100 [==============================] - 0s 80us/step - loss: -0.5481 - acc: 0.4700 - val_loss: -1.0170 - val_acc: 0.5000\n",
      "Epoch 58/200\n"
     ]
    },
    {
     "name": "stdout",
     "output_type": "stream",
     "text": [
      "100/100 [==============================] - 0s 80us/step - loss: -0.5772 - acc: 0.4800 - val_loss: -1.0526 - val_acc: 0.5000\n",
      "Epoch 59/200\n",
      "100/100 [==============================] - 0s 80us/step - loss: -0.6070 - acc: 0.5100 - val_loss: -1.0872 - val_acc: 0.5000\n",
      "Epoch 60/200\n",
      "100/100 [==============================] - 0s 80us/step - loss: -0.6364 - acc: 0.5400 - val_loss: -1.1234 - val_acc: 0.5000\n",
      "Epoch 61/200\n",
      "100/100 [==============================] - 0s 160us/step - loss: -0.6661 - acc: 0.5900 - val_loss: -1.1593 - val_acc: 0.5000\n",
      "Epoch 62/200\n",
      "100/100 [==============================] - ETA: 0s - loss: -0.6846 - acc: 0.62 - 0s 80us/step - loss: -0.6962 - acc: 0.5900 - val_loss: -1.1953 - val_acc: 0.5000\n",
      "Epoch 63/200\n",
      "100/100 [==============================] - 0s 80us/step - loss: -0.7258 - acc: 0.6000 - val_loss: -1.2301 - val_acc: 0.5000\n",
      "Epoch 64/200\n",
      "100/100 [==============================] - 0s 160us/step - loss: -0.7541 - acc: 0.6100 - val_loss: -1.2639 - val_acc: 0.5000\n",
      "Epoch 65/200\n",
      "100/100 [==============================] - 0s 160us/step - loss: -0.7824 - acc: 0.6100 - val_loss: -1.2973 - val_acc: 0.5000\n",
      "Epoch 66/200\n",
      "100/100 [==============================] - 0s 80us/step - loss: -0.8104 - acc: 0.6200 - val_loss: -1.3335 - val_acc: 0.5000\n",
      "Epoch 67/200\n",
      "100/100 [==============================] - 0s 160us/step - loss: -0.8392 - acc: 0.6200 - val_loss: -1.3724 - val_acc: 0.5000\n",
      "Epoch 68/200\n",
      "100/100 [==============================] - 0s 125us/step - loss: -0.8712 - acc: 0.6200 - val_loss: -1.4086 - val_acc: 0.5000\n",
      "Epoch 69/200\n",
      "100/100 [==============================] - 0s 120us/step - loss: -0.9002 - acc: 0.6200 - val_loss: -1.4449 - val_acc: 0.5000\n",
      "Epoch 70/200\n",
      "100/100 [==============================] - 0s 120us/step - loss: -0.9298 - acc: 0.6200 - val_loss: -1.4806 - val_acc: 0.5000\n",
      "Epoch 71/200\n",
      "100/100 [==============================] - 0s 120us/step - loss: -0.9569 - acc: 0.6200 - val_loss: -1.5159 - val_acc: 0.5000\n",
      "Epoch 72/200\n",
      "100/100 [==============================] - 0s 148us/step - loss: -0.9865 - acc: 0.6200 - val_loss: -1.5513 - val_acc: 0.5000\n",
      "Epoch 73/200\n",
      "100/100 [==============================] - 0s 160us/step - loss: -1.0136 - acc: 0.6300 - val_loss: -1.5866 - val_acc: 0.5000\n",
      "Epoch 74/200\n",
      "100/100 [==============================] - 0s 80us/step - loss: -1.0424 - acc: 0.6300 - val_loss: -1.6219 - val_acc: 0.5000\n",
      "Epoch 75/200\n",
      "100/100 [==============================] - 0s 80us/step - loss: -1.0715 - acc: 0.6300 - val_loss: -1.6565 - val_acc: 0.5000\n",
      "Epoch 76/200\n",
      "100/100 [==============================] - 0s 160us/step - loss: -1.0992 - acc: 0.6300 - val_loss: -1.6928 - val_acc: 0.5000\n",
      "Epoch 77/200\n",
      "100/100 [==============================] - 0s 160us/step - loss: -1.1286 - acc: 0.6300 - val_loss: -1.7313 - val_acc: 0.5000\n",
      "Epoch 78/200\n",
      "100/100 [==============================] - 0s 80us/step - loss: -1.1589 - acc: 0.6300 - val_loss: -1.7713 - val_acc: 0.5000\n",
      "Epoch 79/200\n",
      "100/100 [==============================] - 0s 80us/step - loss: -1.1907 - acc: 0.6300 - val_loss: -1.8107 - val_acc: 0.5000\n",
      "Epoch 80/200\n",
      "100/100 [==============================] - 0s 80us/step - loss: -1.2216 - acc: 0.6300 - val_loss: -1.8538 - val_acc: 0.5000\n",
      "Epoch 81/200\n",
      "100/100 [==============================] - 0s 80us/step - loss: -1.2562 - acc: 0.6300 - val_loss: -1.8978 - val_acc: 0.5000\n",
      "Epoch 82/200\n",
      "100/100 [==============================] - 0s 160us/step - loss: -1.2922 - acc: 0.6300 - val_loss: -1.9402 - val_acc: 0.5000\n",
      "Epoch 83/200\n",
      "100/100 [==============================] - 0s 80us/step - loss: -1.3249 - acc: 0.6300 - val_loss: -1.9806 - val_acc: 0.5000\n",
      "Epoch 84/200\n",
      "100/100 [==============================] - 0s 160us/step - loss: -1.3572 - acc: 0.6300 - val_loss: -2.0211 - val_acc: 0.5000\n",
      "Epoch 85/200\n",
      "100/100 [==============================] - 0s 80us/step - loss: -1.3887 - acc: 0.6400 - val_loss: -2.0632 - val_acc: 0.5000\n",
      "Epoch 86/200\n",
      "100/100 [==============================] - 0s 80us/step - loss: -1.4225 - acc: 0.6400 - val_loss: -2.1047 - val_acc: 0.5000\n",
      "Epoch 87/200\n",
      "100/100 [==============================] - 0s 160us/step - loss: -1.4550 - acc: 0.6400 - val_loss: -2.1476 - val_acc: 0.5000\n",
      "Epoch 88/200\n",
      "100/100 [==============================] - 0s 80us/step - loss: -1.4910 - acc: 0.6400 - val_loss: -2.1935 - val_acc: 0.5000\n",
      "Epoch 89/200\n",
      "100/100 [==============================] - 0s 160us/step - loss: -1.5276 - acc: 0.6400 - val_loss: -2.2394 - val_acc: 0.5000\n",
      "Epoch 90/200\n",
      "100/100 [==============================] - 0s 230us/step - loss: -1.5620 - acc: 0.6500 - val_loss: -2.2832 - val_acc: 0.5000\n",
      "Epoch 91/200\n",
      "100/100 [==============================] - 0s 80us/step - loss: -1.5990 - acc: 0.6500 - val_loss: -2.3251 - val_acc: 0.5000\n",
      "Epoch 92/200\n",
      "100/100 [==============================] - 0s 126us/step - loss: -1.6301 - acc: 0.6500 - val_loss: -2.3668 - val_acc: 0.5000\n",
      "Epoch 93/200\n",
      "100/100 [==============================] - 0s 160us/step - loss: -1.6636 - acc: 0.6500 - val_loss: -2.4077 - val_acc: 0.5000\n",
      "Epoch 94/200\n",
      "100/100 [==============================] - 0s 160us/step - loss: -1.6970 - acc: 0.6500 - val_loss: -2.4498 - val_acc: 0.5000\n",
      "Epoch 95/200\n",
      "100/100 [==============================] - 0s 80us/step - loss: -1.7297 - acc: 0.6500 - val_loss: -2.4933 - val_acc: 0.5000\n",
      "Epoch 96/200\n",
      "100/100 [==============================] - 0s 80us/step - loss: -1.7652 - acc: 0.6500 - val_loss: -2.5371 - val_acc: 0.5000\n",
      "Epoch 97/200\n",
      "100/100 [==============================] - 0s 80us/step - loss: -1.7998 - acc: 0.6500 - val_loss: -2.5819 - val_acc: 0.5000\n",
      "Epoch 98/200\n",
      "100/100 [==============================] - 0s 80us/step - loss: -1.8359 - acc: 0.6500 - val_loss: -2.6284 - val_acc: 0.5000\n",
      "Epoch 99/200\n",
      "100/100 [==============================] - 0s 160us/step - loss: -1.8723 - acc: 0.6500 - val_loss: -2.6771 - val_acc: 0.5000\n",
      "Epoch 100/200\n",
      "100/100 [==============================] - 0s 80us/step - loss: -1.9113 - acc: 0.6500 - val_loss: -2.7258 - val_acc: 0.5000\n",
      "Epoch 101/200\n",
      "100/100 [==============================] - 0s 80us/step - loss: -1.9470 - acc: 0.6500 - val_loss: -2.7763 - val_acc: 0.5000\n",
      "Epoch 102/200\n",
      "100/100 [==============================] - 0s 80us/step - loss: -1.9850 - acc: 0.6500 - val_loss: -2.8291 - val_acc: 0.5000\n",
      "Epoch 103/200\n",
      "100/100 [==============================] - 0s 80us/step - loss: -2.0255 - acc: 0.6500 - val_loss: -2.8798 - val_acc: 0.5000\n",
      "Epoch 104/200\n",
      "100/100 [==============================] - 0s 160us/step - loss: -2.0652 - acc: 0.6500 - val_loss: -2.9313 - val_acc: 0.5000\n",
      "Epoch 105/200\n",
      "100/100 [==============================] - 0s 120us/step - loss: -2.1077 - acc: 0.6500 - val_loss: -2.9833 - val_acc: 0.5000\n",
      "Epoch 106/200\n",
      "100/100 [==============================] - 0s 80us/step - loss: -2.1480 - acc: 0.6500 - val_loss: -3.0350 - val_acc: 0.5000\n",
      "Epoch 107/200\n",
      "100/100 [==============================] - 0s 112us/step - loss: -2.1873 - acc: 0.6500 - val_loss: -3.0897 - val_acc: 0.5000\n",
      "Epoch 108/200\n",
      "100/100 [==============================] - 0s 80us/step - loss: -2.2290 - acc: 0.6500 - val_loss: -3.1439 - val_acc: 0.5000\n",
      "Epoch 109/200\n",
      "100/100 [==============================] - 0s 80us/step - loss: -2.2723 - acc: 0.6500 - val_loss: -3.1999 - val_acc: 0.5000\n",
      "Epoch 110/200\n",
      "100/100 [==============================] - 0s 160us/step - loss: -2.3141 - acc: 0.6500 - val_loss: -3.2540 - val_acc: 0.5000\n",
      "Epoch 111/200\n",
      "100/100 [==============================] - 0s 80us/step - loss: -2.3588 - acc: 0.6500 - val_loss: -3.3062 - val_acc: 0.5000\n",
      "Epoch 112/200\n",
      "100/100 [==============================] - 0s 160us/step - loss: -2.3981 - acc: 0.6500 - val_loss: -3.3610 - val_acc: 0.5000\n",
      "Epoch 113/200\n",
      "100/100 [==============================] - 0s 80us/step - loss: -2.4425 - acc: 0.6500 - val_loss: -3.4160 - val_acc: 0.5000\n",
      "Epoch 114/200\n",
      "100/100 [==============================] - 0s 80us/step - loss: -2.4845 - acc: 0.6500 - val_loss: -3.4775 - val_acc: 0.5000\n",
      "Epoch 115/200\n",
      "100/100 [==============================] - 0s 80us/step - loss: -2.5333 - acc: 0.6500 - val_loss: -3.5401 - val_acc: 0.5000\n",
      "Epoch 116/200\n",
      "100/100 [==============================] - 0s 160us/step - loss: -2.5824 - acc: 0.6500 - val_loss: -3.6046 - val_acc: 0.5000\n",
      "Epoch 117/200\n"
     ]
    },
    {
     "name": "stdout",
     "output_type": "stream",
     "text": [
      "100/100 [==============================] - 0s 160us/step - loss: -2.6313 - acc: 0.6500 - val_loss: -3.6679 - val_acc: 0.5000\n",
      "Epoch 118/200\n",
      "100/100 [==============================] - 0s 160us/step - loss: -2.6818 - acc: 0.6500 - val_loss: -3.7352 - val_acc: 0.5000\n",
      "Epoch 119/200\n",
      "100/100 [==============================] - 0s 160us/step - loss: -2.7369 - acc: 0.6500 - val_loss: -3.8051 - val_acc: 0.5000\n",
      "Epoch 120/200\n",
      "100/100 [==============================] - 0s 80us/step - loss: -2.7921 - acc: 0.6500 - val_loss: -3.8795 - val_acc: 0.5000\n",
      "Epoch 121/200\n",
      "100/100 [==============================] - 0s 80us/step - loss: -2.8498 - acc: 0.6500 - val_loss: -3.9589 - val_acc: 0.5000\n",
      "Epoch 122/200\n",
      "100/100 [==============================] - 0s 80us/step - loss: -2.9136 - acc: 0.6500 - val_loss: -4.0356 - val_acc: 0.5000\n",
      "Epoch 123/200\n",
      "100/100 [==============================] - 0s 80us/step - loss: -2.9668 - acc: 0.6500 - val_loss: -4.1096 - val_acc: 0.5000\n",
      "Epoch 124/200\n",
      "100/100 [==============================] - 0s 80us/step - loss: -3.0274 - acc: 0.6500 - val_loss: -4.1797 - val_acc: 0.5000\n",
      "Epoch 125/200\n",
      "100/100 [==============================] - ETA: 0s - loss: -3.5754 - acc: 0.59 - 0s 80us/step - loss: -3.0777 - acc: 0.6500 - val_loss: -4.2466 - val_acc: 0.5000\n",
      "Epoch 126/200\n",
      "100/100 [==============================] - 0s 160us/step - loss: -3.1297 - acc: 0.6500 - val_loss: -4.3113 - val_acc: 0.5000\n",
      "Epoch 127/200\n",
      "100/100 [==============================] - 0s 80us/step - loss: -3.1831 - acc: 0.6500 - val_loss: -4.3822 - val_acc: 0.5000\n",
      "Epoch 128/200\n",
      "100/100 [==============================] - 0s 80us/step - loss: -3.2373 - acc: 0.6500 - val_loss: -4.4521 - val_acc: 0.5000\n",
      "Epoch 129/200\n",
      "100/100 [==============================] - 0s 80us/step - loss: -3.2916 - acc: 0.6500 - val_loss: -4.5210 - val_acc: 0.5000\n",
      "Epoch 130/200\n",
      "100/100 [==============================] - 0s 80us/step - loss: -3.3392 - acc: 0.6500 - val_loss: -4.5946 - val_acc: 0.5000\n",
      "Epoch 131/200\n",
      "100/100 [==============================] - 0s 80us/step - loss: -3.3967 - acc: 0.6500 - val_loss: -4.6720 - val_acc: 0.5000\n",
      "Epoch 132/200\n",
      "100/100 [==============================] - 0s 80us/step - loss: -3.4571 - acc: 0.6500 - val_loss: -4.7518 - val_acc: 0.5000\n",
      "Epoch 133/200\n",
      "100/100 [==============================] - 0s 80us/step - loss: -3.5115 - acc: 0.6500 - val_loss: -4.8371 - val_acc: 0.5000\n",
      "Epoch 134/200\n",
      "100/100 [==============================] - 0s 80us/step - loss: -3.5764 - acc: 0.6500 - val_loss: -4.9141 - val_acc: 0.5000\n",
      "Epoch 135/200\n",
      "100/100 [==============================] - 0s 80us/step - loss: -3.6283 - acc: 0.6500 - val_loss: -4.9943 - val_acc: 0.5000\n",
      "Epoch 136/200\n",
      "100/100 [==============================] - 0s 80us/step - loss: -3.6901 - acc: 0.6500 - val_loss: -5.0707 - val_acc: 0.5000\n",
      "Epoch 137/200\n",
      "100/100 [==============================] - 0s 160us/step - loss: -3.7431 - acc: 0.6500 - val_loss: -5.1471 - val_acc: 0.5000\n",
      "Epoch 138/200\n",
      "100/100 [==============================] - 0s 167us/step - loss: -3.7976 - acc: 0.6500 - val_loss: -5.2262 - val_acc: 0.5000\n",
      "Epoch 139/200\n",
      "100/100 [==============================] - 0s 120us/step - loss: -3.8596 - acc: 0.6500 - val_loss: -5.3028 - val_acc: 0.5000\n",
      "Epoch 140/200\n",
      "100/100 [==============================] - 0s 120us/step - loss: -3.9041 - acc: 0.6500 - val_loss: -5.3856 - val_acc: 0.5000\n",
      "Epoch 141/200\n",
      "100/100 [==============================] - 0s 86us/step - loss: -3.9659 - acc: 0.6500 - val_loss: -5.4656 - val_acc: 0.5000\n",
      "Epoch 142/200\n",
      "100/100 [==============================] - 0s 80us/step - loss: -4.0098 - acc: 0.6500 - val_loss: -5.5402 - val_acc: 0.5000\n",
      "Epoch 143/200\n",
      "100/100 [==============================] - 0s 160us/step - loss: -4.0626 - acc: 0.6500 - val_loss: -5.6091 - val_acc: 0.5000\n",
      "Epoch 144/200\n",
      "100/100 [==============================] - 0s 80us/step - loss: -4.1183 - acc: 0.6500 - val_loss: -5.6864 - val_acc: 0.5000\n",
      "Epoch 145/200\n",
      "100/100 [==============================] - 0s 80us/step - loss: -4.1644 - acc: 0.6500 - val_loss: -5.7548 - val_acc: 0.5000\n",
      "Epoch 146/200\n",
      "100/100 [==============================] - 0s 160us/step - loss: -4.1977 - acc: 0.6500 - val_loss: -5.8248 - val_acc: 0.5000\n",
      "Epoch 147/200\n",
      "100/100 [==============================] - 0s 160us/step - loss: -4.2507 - acc: 0.6500 - val_loss: -5.8857 - val_acc: 0.5000\n",
      "Epoch 148/200\n",
      "100/100 [==============================] - 0s 80us/step - loss: -4.2940 - acc: 0.6500 - val_loss: -5.9604 - val_acc: 0.5000\n",
      "Epoch 149/200\n",
      "100/100 [==============================] - 0s 80us/step - loss: -4.3388 - acc: 0.6500 - val_loss: -6.0238 - val_acc: 0.5000\n",
      "Epoch 150/200\n",
      "100/100 [==============================] - 0s 160us/step - loss: -4.3829 - acc: 0.6500 - val_loss: -6.1005 - val_acc: 0.5000\n",
      "Epoch 151/200\n",
      "100/100 [==============================] - 0s 160us/step - loss: -4.4260 - acc: 0.6500 - val_loss: -6.1881 - val_acc: 0.5000\n",
      "Epoch 152/200\n",
      "100/100 [==============================] - 0s 160us/step - loss: -4.4722 - acc: 0.6500 - val_loss: -6.2519 - val_acc: 0.5000\n",
      "Epoch 153/200\n",
      "100/100 [==============================] - 0s 160us/step - loss: -4.5117 - acc: 0.6500 - val_loss: -6.3128 - val_acc: 0.5000\n",
      "Epoch 154/200\n",
      "100/100 [==============================] - 0s 160us/step - loss: -4.5527 - acc: 0.6500 - val_loss: -6.4038 - val_acc: 0.5000\n",
      "Epoch 155/200\n",
      "100/100 [==============================] - 0s 160us/step - loss: -4.5959 - acc: 0.6500 - val_loss: -6.4769 - val_acc: 0.5000\n",
      "Epoch 156/200\n",
      "100/100 [==============================] - 0s 80us/step - loss: -4.6335 - acc: 0.6500 - val_loss: -6.5304 - val_acc: 0.5000\n",
      "Epoch 157/200\n",
      "100/100 [==============================] - ETA: 0s - loss: -4.2524 - acc: 0.68 - 0s 80us/step - loss: -4.6697 - acc: 0.6500 - val_loss: -6.5958 - val_acc: 0.5000\n",
      "Epoch 158/200\n",
      "100/100 [==============================] - 0s 80us/step - loss: -4.7034 - acc: 0.6500 - val_loss: -6.6621 - val_acc: 0.5000\n",
      "Epoch 159/200\n",
      "100/100 [==============================] - 0s 80us/step - loss: -4.7547 - acc: 0.6500 - val_loss: -6.7982 - val_acc: 0.5000\n",
      "Epoch 160/200\n",
      "100/100 [==============================] - 0s 80us/step - loss: -4.7877 - acc: 0.6500 - val_loss: -6.8479 - val_acc: 0.5000\n",
      "Epoch 161/200\n",
      "100/100 [==============================] - 0s 160us/step - loss: -4.8256 - acc: 0.6500 - val_loss: -6.8476 - val_acc: 0.5000\n",
      "Epoch 162/200\n",
      "100/100 [==============================] - 0s 91us/step - loss: -4.8581 - acc: 0.6500 - val_loss: -6.9318 - val_acc: 0.5000\n",
      "Epoch 163/200\n",
      "100/100 [==============================] - 0s 120us/step - loss: -4.8948 - acc: 0.6500 - val_loss: -6.9610 - val_acc: 0.5000\n",
      "Epoch 164/200\n",
      "100/100 [==============================] - 0s 89us/step - loss: -4.9133 - acc: 0.6500 - val_loss: -7.0064 - val_acc: 0.5000\n",
      "Epoch 165/200\n",
      "100/100 [==============================] - 0s 80us/step - loss: -4.9385 - acc: 0.6500 - val_loss: -7.0280 - val_acc: 0.5000\n",
      "Epoch 166/200\n",
      "100/100 [==============================] - 0s 80us/step - loss: -4.9651 - acc: 0.6500 - val_loss: -7.0728 - val_acc: 0.5000\n",
      "Epoch 167/200\n",
      "100/100 [==============================] - 0s 80us/step - loss: -4.9954 - acc: 0.6500 - val_loss: -7.1187 - val_acc: 0.5000\n",
      "Epoch 168/200\n",
      "100/100 [==============================] - 0s 160us/step - loss: -5.0149 - acc: 0.6500 - val_loss: -7.1519 - val_acc: 0.5000\n",
      "Epoch 169/200\n",
      "100/100 [==============================] - 0s 160us/step - loss: -5.0497 - acc: 0.6500 - val_loss: -7.2092 - val_acc: 0.5000\n",
      "Epoch 170/200\n",
      "100/100 [==============================] - 0s 160us/step - loss: -5.0823 - acc: 0.6500 - val_loss: -7.2737 - val_acc: 0.5000\n",
      "Epoch 171/200\n",
      "100/100 [==============================] - 0s 80us/step - loss: -5.0905 - acc: 0.6500 - val_loss: -7.2909 - val_acc: 0.5000\n",
      "Epoch 172/200\n",
      "100/100 [==============================] - 0s 80us/step - loss: -5.1099 - acc: 0.6500 - val_loss: -7.3226 - val_acc: 0.5000\n",
      "Epoch 173/200\n",
      "100/100 [==============================] - 0s 240us/step - loss: -5.1409 - acc: 0.6500 - val_loss: -7.3656 - val_acc: 0.5000\n",
      "Epoch 174/200\n",
      "100/100 [==============================] - 0s 80us/step - loss: -5.1581 - acc: 0.6500 - val_loss: -7.3830 - val_acc: 0.5000\n",
      "Epoch 175/200\n",
      "100/100 [==============================] - 0s 247us/step - loss: -5.1676 - acc: 0.6500 - val_loss: -7.4772 - val_acc: 0.5000\n"
     ]
    },
    {
     "name": "stdout",
     "output_type": "stream",
     "text": [
      "Epoch 176/200\n",
      "100/100 [==============================] - 0s 80us/step - loss: -5.1918 - acc: 0.6500 - val_loss: -7.4998 - val_acc: 0.5000\n",
      "Epoch 177/200\n",
      "100/100 [==============================] - 0s 57us/step - loss: -5.2075 - acc: 0.6500 - val_loss: -7.5118 - val_acc: 0.5000\n",
      "Epoch 178/200\n",
      "100/100 [==============================] - 0s 80us/step - loss: -5.2367 - acc: 0.6500 - val_loss: -7.5024 - val_acc: 0.5000\n",
      "Epoch 179/200\n",
      "100/100 [==============================] - 0s 80us/step - loss: -5.2393 - acc: 0.6500 - val_loss: -7.5650 - val_acc: 0.5000\n",
      "Epoch 180/200\n",
      "100/100 [==============================] - 0s 80us/step - loss: -5.2531 - acc: 0.6500 - val_loss: -7.5992 - val_acc: 0.5000\n",
      "Epoch 181/200\n",
      "100/100 [==============================] - 0s 160us/step - loss: -5.2661 - acc: 0.6500 - val_loss: -7.6107 - val_acc: 0.5000\n",
      "Epoch 182/200\n",
      "100/100 [==============================] - 0s 80us/step - loss: -5.2721 - acc: 0.6500 - val_loss: -7.6479 - val_acc: 0.5000\n",
      "Epoch 183/200\n",
      "100/100 [==============================] - 0s 80us/step - loss: -5.2965 - acc: 0.6500 - val_loss: -7.6482 - val_acc: 0.5000\n",
      "Epoch 184/200\n",
      "100/100 [==============================] - 0s 80us/step - loss: -5.3059 - acc: 0.6500 - val_loss: -7.7063 - val_acc: 0.5000\n",
      "Epoch 185/200\n",
      "100/100 [==============================] - 0s 80us/step - loss: -5.3114 - acc: 0.6500 - val_loss: -7.7219 - val_acc: 0.5000\n",
      "Epoch 186/200\n",
      "100/100 [==============================] - 0s 160us/step - loss: -5.3283 - acc: 0.6500 - val_loss: -7.7746 - val_acc: 0.5000\n",
      "Epoch 187/200\n",
      "100/100 [==============================] - 0s 160us/step - loss: -5.3379 - acc: 0.6500 - val_loss: -7.7989 - val_acc: 0.5000\n",
      "Epoch 188/200\n",
      "100/100 [==============================] - 0s 113us/step - loss: -5.3511 - acc: 0.6500 - val_loss: -7.7752 - val_acc: 0.5000\n",
      "Epoch 189/200\n",
      "100/100 [==============================] - 0s 80us/step - loss: -5.3500 - acc: 0.6500 - val_loss: -7.7866 - val_acc: 0.5000\n",
      "Epoch 190/200\n",
      "100/100 [==============================] - 0s 160us/step - loss: -5.3578 - acc: 0.6500 - val_loss: -7.7869 - val_acc: 0.5000\n",
      "Epoch 191/200\n",
      "100/100 [==============================] - 0s 80us/step - loss: -5.3660 - acc: 0.6500 - val_loss: -7.8578 - val_acc: 0.5000\n",
      "Epoch 192/200\n",
      "100/100 [==============================] - 0s 80us/step - loss: -5.3757 - acc: 0.6500 - val_loss: -7.8919 - val_acc: 0.5000\n",
      "Epoch 193/200\n",
      "100/100 [==============================] - 0s 80us/step - loss: -5.3818 - acc: 0.6500 - val_loss: -7.8736 - val_acc: 0.5000\n",
      "Epoch 194/200\n",
      "100/100 [==============================] - 0s 80us/step - loss: -5.3929 - acc: 0.6500 - val_loss: -7.8401 - val_acc: 0.5000\n",
      "Epoch 195/200\n",
      "100/100 [==============================] - 0s 80us/step - loss: -5.3952 - acc: 0.6500 - val_loss: -7.8927 - val_acc: 0.5000\n",
      "Epoch 196/200\n",
      "100/100 [==============================] - 0s 160us/step - loss: -5.3990 - acc: 0.6500 - val_loss: -7.8744 - val_acc: 0.5000\n",
      "Epoch 197/200\n",
      "100/100 [==============================] - 0s 80us/step - loss: -5.4012 - acc: 0.6500 - val_loss: -7.8595 - val_acc: 0.5000\n",
      "Epoch 198/200\n",
      "100/100 [==============================] - 0s 80us/step - loss: -5.4069 - acc: 0.6500 - val_loss: -7.9176 - val_acc: 0.5000\n",
      "Epoch 199/200\n",
      "100/100 [==============================] - 0s 145us/step - loss: -5.4053 - acc: 0.6500 - val_loss: -7.8939 - val_acc: 0.5000\n",
      "Epoch 200/200\n",
      "100/100 [==============================] - 0s 80us/step - loss: -5.4225 - acc: 0.6500 - val_loss: -7.8941 - val_acc: 0.5000\n"
     ]
    }
   ],
   "source": [
    "history=model.fit(X_train, y_train, validation_split=0.1, epochs=200, verbose=1)"
   ]
  },
  {
   "cell_type": "code",
   "execution_count": 17,
   "metadata": {},
   "outputs": [
    {
     "data": {
      "image/png": "[encoded data removed]",
      "text/plain": [
       "<Figure size 432x288 with 1 Axes>"
      ]
     },
     "metadata": {},
     "output_type": "display_data"
    }
   ],
   "source": [
    "plt.plot(history.history['acc'])\n",
    "plt.plot(history.history['val_acc'])\n",
    "plt.title('model accuracy')\n",
    "plt.xlabel('accuracy')\n",
    "plt.ylabel('epoch')\n",
    "plt.legend(['train', 'val'], loc='upper left')\n",
    "plt.show()"
   ]
  },
  {
   "cell_type": "code",
   "execution_count": 18,
   "metadata": {},
   "outputs": [
    {
     "data": {
      "image/png": "[encoded data removed]",
      "text/plain": [
       "<Figure size 432x288 with 1 Axes>"
      ]
     },
     "metadata": {},
     "output_type": "display_data"
    }
   ],
   "source": [
    "plt.plot(history.history['loss'])\n",
    "plt.plot(history.history['val_loss'])\n",
    "plt.title('model loss')\n",
    "plt.xlabel('epoch')\n",
    "plt.ylabel('loss')\n",
    "plt.legend(['training loss', 'validation loss'], loc='upper left')\n",
    "plt.show()"
   ]
  },
  {
   "cell_type": "markdown",
   "metadata": {},
   "source": [
    "# Accuracy of the Dataset"
   ]
  },
  {
   "cell_type": "code",
   "execution_count": 19,
   "metadata": {},
   "outputs": [
    {
     "name": "stdout",
     "output_type": "stream",
     "text": [
      "112/112 [==============================] - 0s 71us/step\n",
      "Accuracy:63.39\n"
     ]
    }
   ],
   "source": [
    "_,accuracy=model.evaluate(X_train, y_train)\n",
    "print(\"Accuracy:%.2f\"%(accuracy*100))"
   ]
  },
  {
   "cell_type": "markdown",
   "metadata": {},
   "source": [
    "# Calculating F-1 score"
   ]
  },
  {
   "cell_type": "code",
   "execution_count": 20,
   "metadata": {},
   "outputs": [
    {
     "data": {
      "text/html": [
       "<div>\n",
       "<style scoped>\n",
       "    .dataframe tbody tr th:only-of-type {\n",
       "        vertical-align: middle;\n",
       "    }\n",
       "\n",
       "    .dataframe tbody tr th {\n",
       "        vertical-align: top;\n",
       "    }\n",
       "\n",
       "    .dataframe thead th {\n",
       "        text-align: right;\n",
       "    }\n",
       "</style>\n",
       "<table border=\"1\" class=\"dataframe\">\n",
       "  <thead>\n",
       "    <tr style=\"text-align: right;\">\n",
       "      <th></th>\n",
       "      <th>Test accuracy</th>\n",
       "      <th>F1 Score</th>\n",
       "      <th>Total Loss</th>\n",
       "    </tr>\n",
       "  </thead>\n",
       "  <tbody>\n",
       "    <tr>\n",
       "      <th>0</th>\n",
       "      <td>76.316</td>\n",
       "      <td>0.763</td>\n",
       "      <td>-3.749</td>\n",
       "    </tr>\n",
       "  </tbody>\n",
       "</table>\n",
       "</div>"
      ],
      "text/plain": [
       "   Test accuracy  F1 Score  Total Loss\n",
       "0         76.316     0.763      -3.749"
      ]
     },
     "metadata": {},
     "output_type": "display_data"
    }
   ],
   "source": [
    "test_loss=model.evaluate(X_test, y_test, verbose=0)\n",
    "\n",
    "# Calculate evaluation Parameters\n",
    "f1=f1_score(y_test, model.predict_classes(X_test), average='micro')\n",
    "\n",
    "stats=pd.DataFrame({'Test accuracy':\n",
    "                   round(test_loss[1]*100,3),\n",
    "                   'F1 Score' : round(f1,3),\n",
    "                   'Total Loss': round(test_loss[0],3)},\n",
    "                  index=[0])\n",
    "\n",
    "display(stats)"
   ]
  },
  {
   "cell_type": "code",
   "execution_count": null,
   "metadata": {},
   "outputs": [],
   "source": []
  }
 ],
 "metadata": {
  "kernelspec": {
   "display_name": "Python 3",
   "language": "python",
   "name": "python3"
  },
  "language_info": {
   "codemirror_mode": {
    "name": "ipython",
    "version": 3
   },
   "file_extension": ".py",
   "mimetype": "text/x-python",
   "name": "python",
   "nbconvert_exporter": "python",
   "pygments_lexer": "ipython3",
   "version": "3.6.5"
  }
 },
 "nbformat": 4,
 "nbformat_minor": 2
}
