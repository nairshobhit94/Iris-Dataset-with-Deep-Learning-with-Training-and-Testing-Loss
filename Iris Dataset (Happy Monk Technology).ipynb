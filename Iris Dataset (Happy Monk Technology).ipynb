{
 "cells": [
  {
   "cell_type": "markdown",
   "metadata": {},
   "source": [
    "# Importing the Important Libraries"
   ]
  },
  {
   "cell_type": "code",
   "execution_count": 1,
   "metadata": {},
   "outputs": [
    {
     "name": "stderr",
     "output_type": "stream",
     "text": [
      "C:\\Users\\Robinhood\\Anaconda3\\lib\\site-packages\\h5py\\__init__.py:36: FutureWarning: Conversion of the second argument of issubdtype from `float` to `np.floating` is deprecated. In future, it will be treated as `np.float64 == np.dtype(float).type`.\n",
      "  from ._conv import register_converters as _register_converters\n",
      "Using TensorFlow backend.\n"
     ]
    }
   ],
   "source": [
    "import pandas as pd\n",
    "import numpy as np\n",
    "import keras\n",
    "from keras.models import Sequential\n",
    "from keras.layers import Dense\n",
    "import matplotlib.pyplot as plt\n",
    "import seaborn as sns\n",
    "\n",
    "from sklearn.preprocessing import StandardScaler\n",
    "from sklearn.model_selection import train_test_split\n",
    "from sklearn.metrics import f1_score, roc_auc_score, log_loss\n",
    "from sklearn.model_selection import cross_val_score, cross_validate"
   ]
  },
  {
   "cell_type": "markdown",
   "metadata": {},
   "source": [
    "# Loading the Dataset"
   ]
  },
  {
   "cell_type": "code",
   "execution_count": 2,
   "metadata": {},
   "outputs": [],
   "source": [
    "iris=pd.read_csv(\"iris.csv\")"
   ]
  },
  {
   "cell_type": "markdown",
   "metadata": {},
   "source": [
    "# Reading the Dataset"
   ]
  },
  {
   "cell_type": "code",
   "execution_count": 3,
   "metadata": {},
   "outputs": [
    {
     "data": {
      "text/html": [
       "<div>\n",
       "<style scoped>\n",
       "    .dataframe tbody tr th:only-of-type {\n",
       "        vertical-align: middle;\n",
       "    }\n",
       "\n",
       "    .dataframe tbody tr th {\n",
       "        vertical-align: top;\n",
       "    }\n",
       "\n",
       "    .dataframe thead th {\n",
       "        text-align: right;\n",
       "    }\n",
       "</style>\n",
       "<table border=\"1\" class=\"dataframe\">\n",
       "  <thead>\n",
       "    <tr style=\"text-align: right;\">\n",
       "      <th></th>\n",
       "      <th>Id</th>\n",
       "      <th>SepalLengthCm</th>\n",
       "      <th>SepalWidthCm</th>\n",
       "      <th>PetalLengthCm</th>\n",
       "      <th>PetalWidthCm</th>\n",
       "      <th>Species</th>\n",
       "    </tr>\n",
       "  </thead>\n",
       "  <tbody>\n",
       "    <tr>\n",
       "      <th>0</th>\n",
       "      <td>1</td>\n",
       "      <td>5.1</td>\n",
       "      <td>3.5</td>\n",
       "      <td>1.4</td>\n",
       "      <td>0.2</td>\n",
       "      <td>Iris-setosa</td>\n",
       "    </tr>\n",
       "    <tr>\n",
       "      <th>1</th>\n",
       "      <td>2</td>\n",
       "      <td>4.9</td>\n",
       "      <td>3.0</td>\n",
       "      <td>1.4</td>\n",
       "      <td>0.2</td>\n",
       "      <td>Iris-setosa</td>\n",
       "    </tr>\n",
       "    <tr>\n",
       "      <th>2</th>\n",
       "      <td>3</td>\n",
       "      <td>4.7</td>\n",
       "      <td>3.2</td>\n",
       "      <td>1.3</td>\n",
       "      <td>0.2</td>\n",
       "      <td>Iris-setosa</td>\n",
       "    </tr>\n",
       "    <tr>\n",
       "      <th>3</th>\n",
       "      <td>4</td>\n",
       "      <td>4.6</td>\n",
       "      <td>3.1</td>\n",
       "      <td>1.5</td>\n",
       "      <td>0.2</td>\n",
       "      <td>Iris-setosa</td>\n",
       "    </tr>\n",
       "    <tr>\n",
       "      <th>4</th>\n",
       "      <td>5</td>\n",
       "      <td>5.0</td>\n",
       "      <td>3.6</td>\n",
       "      <td>1.4</td>\n",
       "      <td>0.2</td>\n",
       "      <td>Iris-setosa</td>\n",
       "    </tr>\n",
       "    <tr>\n",
       "      <th>5</th>\n",
       "      <td>6</td>\n",
       "      <td>5.4</td>\n",
       "      <td>3.9</td>\n",
       "      <td>1.7</td>\n",
       "      <td>0.4</td>\n",
       "      <td>Iris-setosa</td>\n",
       "    </tr>\n",
       "    <tr>\n",
       "      <th>6</th>\n",
       "      <td>7</td>\n",
       "      <td>4.6</td>\n",
       "      <td>3.4</td>\n",
       "      <td>1.4</td>\n",
       "      <td>0.3</td>\n",
       "      <td>Iris-setosa</td>\n",
       "    </tr>\n",
       "    <tr>\n",
       "      <th>7</th>\n",
       "      <td>8</td>\n",
       "      <td>5.0</td>\n",
       "      <td>3.4</td>\n",
       "      <td>1.5</td>\n",
       "      <td>0.2</td>\n",
       "      <td>Iris-setosa</td>\n",
       "    </tr>\n",
       "    <tr>\n",
       "      <th>8</th>\n",
       "      <td>9</td>\n",
       "      <td>4.4</td>\n",
       "      <td>2.9</td>\n",
       "      <td>1.4</td>\n",
       "      <td>0.2</td>\n",
       "      <td>Iris-setosa</td>\n",
       "    </tr>\n",
       "    <tr>\n",
       "      <th>9</th>\n",
       "      <td>10</td>\n",
       "      <td>4.9</td>\n",
       "      <td>3.1</td>\n",
       "      <td>1.5</td>\n",
       "      <td>0.1</td>\n",
       "      <td>Iris-setosa</td>\n",
       "    </tr>\n",
       "    <tr>\n",
       "      <th>10</th>\n",
       "      <td>11</td>\n",
       "      <td>5.4</td>\n",
       "      <td>3.7</td>\n",
       "      <td>1.5</td>\n",
       "      <td>0.2</td>\n",
       "      <td>Iris-setosa</td>\n",
       "    </tr>\n",
       "    <tr>\n",
       "      <th>11</th>\n",
       "      <td>12</td>\n",
       "      <td>4.8</td>\n",
       "      <td>3.4</td>\n",
       "      <td>1.6</td>\n",
       "      <td>0.2</td>\n",
       "      <td>Iris-setosa</td>\n",
       "    </tr>\n",
       "    <tr>\n",
       "      <th>12</th>\n",
       "      <td>13</td>\n",
       "      <td>4.8</td>\n",
       "      <td>3.0</td>\n",
       "      <td>1.4</td>\n",
       "      <td>0.1</td>\n",
       "      <td>Iris-setosa</td>\n",
       "    </tr>\n",
       "    <tr>\n",
       "      <th>13</th>\n",
       "      <td>14</td>\n",
       "      <td>4.3</td>\n",
       "      <td>3.0</td>\n",
       "      <td>1.1</td>\n",
       "      <td>0.1</td>\n",
       "      <td>Iris-setosa</td>\n",
       "    </tr>\n",
       "    <tr>\n",
       "      <th>14</th>\n",
       "      <td>15</td>\n",
       "      <td>5.8</td>\n",
       "      <td>4.0</td>\n",
       "      <td>1.2</td>\n",
       "      <td>0.2</td>\n",
       "      <td>Iris-setosa</td>\n",
       "    </tr>\n",
       "    <tr>\n",
       "      <th>15</th>\n",
       "      <td>16</td>\n",
       "      <td>5.7</td>\n",
       "      <td>4.4</td>\n",
       "      <td>1.5</td>\n",
       "      <td>0.4</td>\n",
       "      <td>Iris-setosa</td>\n",
       "    </tr>\n",
       "    <tr>\n",
       "      <th>16</th>\n",
       "      <td>17</td>\n",
       "      <td>5.4</td>\n",
       "      <td>3.9</td>\n",
       "      <td>1.3</td>\n",
       "      <td>0.4</td>\n",
       "      <td>Iris-setosa</td>\n",
       "    </tr>\n",
       "    <tr>\n",
       "      <th>17</th>\n",
       "      <td>18</td>\n",
       "      <td>5.1</td>\n",
       "      <td>3.5</td>\n",
       "      <td>1.4</td>\n",
       "      <td>0.3</td>\n",
       "      <td>Iris-setosa</td>\n",
       "    </tr>\n",
       "    <tr>\n",
       "      <th>18</th>\n",
       "      <td>19</td>\n",
       "      <td>5.7</td>\n",
       "      <td>3.8</td>\n",
       "      <td>1.7</td>\n",
       "      <td>0.3</td>\n",
       "      <td>Iris-setosa</td>\n",
       "    </tr>\n",
       "    <tr>\n",
       "      <th>19</th>\n",
       "      <td>20</td>\n",
       "      <td>5.1</td>\n",
       "      <td>3.8</td>\n",
       "      <td>1.5</td>\n",
       "      <td>0.3</td>\n",
       "      <td>Iris-setosa</td>\n",
       "    </tr>\n",
       "  </tbody>\n",
       "</table>\n",
       "</div>"
      ],
      "text/plain": [
       "    Id  SepalLengthCm  SepalWidthCm  PetalLengthCm  PetalWidthCm      Species\n",
       "0    1            5.1           3.5            1.4           0.2  Iris-setosa\n",
       "1    2            4.9           3.0            1.4           0.2  Iris-setosa\n",
       "2    3            4.7           3.2            1.3           0.2  Iris-setosa\n",
       "3    4            4.6           3.1            1.5           0.2  Iris-setosa\n",
       "4    5            5.0           3.6            1.4           0.2  Iris-setosa\n",
       "5    6            5.4           3.9            1.7           0.4  Iris-setosa\n",
       "6    7            4.6           3.4            1.4           0.3  Iris-setosa\n",
       "7    8            5.0           3.4            1.5           0.2  Iris-setosa\n",
       "8    9            4.4           2.9            1.4           0.2  Iris-setosa\n",
       "9   10            4.9           3.1            1.5           0.1  Iris-setosa\n",
       "10  11            5.4           3.7            1.5           0.2  Iris-setosa\n",
       "11  12            4.8           3.4            1.6           0.2  Iris-setosa\n",
       "12  13            4.8           3.0            1.4           0.1  Iris-setosa\n",
       "13  14            4.3           3.0            1.1           0.1  Iris-setosa\n",
       "14  15            5.8           4.0            1.2           0.2  Iris-setosa\n",
       "15  16            5.7           4.4            1.5           0.4  Iris-setosa\n",
       "16  17            5.4           3.9            1.3           0.4  Iris-setosa\n",
       "17  18            5.1           3.5            1.4           0.3  Iris-setosa\n",
       "18  19            5.7           3.8            1.7           0.3  Iris-setosa\n",
       "19  20            5.1           3.8            1.5           0.3  Iris-setosa"
      ]
     },
     "execution_count": 3,
     "metadata": {},
     "output_type": "execute_result"
    }
   ],
   "source": [
    "iris.head(20)"
   ]
  },
  {
   "cell_type": "markdown",
   "metadata": {},
   "source": [
    "# Shape of the Dataset"
   ]
  },
  {
   "cell_type": "code",
   "execution_count": 4,
   "metadata": {},
   "outputs": [
    {
     "data": {
      "text/plain": [
       "(150, 6)"
      ]
     },
     "execution_count": 4,
     "metadata": {},
     "output_type": "execute_result"
    }
   ],
   "source": [
    "iris.shape"
   ]
  },
  {
   "cell_type": "markdown",
   "metadata": {},
   "source": [
    "# Checking No. of Classes in Iris Dataset"
   ]
  },
  {
   "cell_type": "code",
   "execution_count": 5,
   "metadata": {},
   "outputs": [
    {
     "data": {
      "text/plain": [
       "<matplotlib.axes._subplots.AxesSubplot at 0x1ec5f5dc780>"
      ]
     },
     "execution_count": 5,
     "metadata": {},
     "output_type": "execute_result"
    },
    {
     "data": {
      "image/png": "[encoded data removed]",
      "text/plain": [
       "<Figure size 432x288 with 1 Axes>"
      ]
     },
     "metadata": {},
     "output_type": "display_data"
    }
   ],
   "source": [
    "sns.countplot(x=\"Species\", data=iris)"
   ]
  },
  {
   "cell_type": "code",
   "execution_count": 6,
   "metadata": {},
   "outputs": [
    {
     "data": {
      "text/plain": [
       "Iris-versicolor    50\n",
       "Iris-virginica     50\n",
       "Iris-setosa        50\n",
       "Name: Species, dtype: int64"
      ]
     },
     "execution_count": 6,
     "metadata": {},
     "output_type": "execute_result"
    }
   ],
   "source": [
    "iris[\"Species\"].value_counts()"
   ]
  },
  {
   "cell_type": "markdown",
   "metadata": {},
   "source": [
    "# Checking the correlation"
   ]
  },
  {
   "cell_type": "code",
   "execution_count": 7,
   "metadata": {},
   "outputs": [
    {
     "data": {
      "text/plain": [
       "<matplotlib.axes._subplots.AxesSubplot at 0x1ec616b64a8>"
      ]
     },
     "execution_count": 7,
     "metadata": {},
     "output_type": "execute_result"
    },
    {
     "data": {
      "image/png": "[encoded data removed]",
      "text/plain": [
       "<Figure size 864x576 with 2 Axes>"
      ]
     },
     "metadata": {},
     "output_type": "display_data"
    }
   ],
   "source": [
    "corrmat=iris.corr()\n",
    "plt.subplots(figsize=(12,8))\n",
    "sns.heatmap(corrmat, square=True)"
   ]
  },
  {
   "cell_type": "code",
   "execution_count": 8,
   "metadata": {},
   "outputs": [
    {
     "data": {
      "text/html": [
       "<div>\n",
       "<style scoped>\n",
       "    .dataframe tbody tr th:only-of-type {\n",
       "        vertical-align: middle;\n",
       "    }\n",
       "\n",
       "    .dataframe tbody tr th {\n",
       "        vertical-align: top;\n",
       "    }\n",
       "\n",
       "    .dataframe thead th {\n",
       "        text-align: right;\n",
       "    }\n",
       "</style>\n",
       "<table border=\"1\" class=\"dataframe\">\n",
       "  <thead>\n",
       "    <tr style=\"text-align: right;\">\n",
       "      <th></th>\n",
       "      <th>Id</th>\n",
       "      <th>SepalLengthCm</th>\n",
       "      <th>SepalWidthCm</th>\n",
       "      <th>PetalLengthCm</th>\n",
       "      <th>PetalWidthCm</th>\n",
       "    </tr>\n",
       "  </thead>\n",
       "  <tbody>\n",
       "    <tr>\n",
       "      <th>Id</th>\n",
       "      <td>1.000000</td>\n",
       "      <td>0.716676</td>\n",
       "      <td>-0.397729</td>\n",
       "      <td>0.882747</td>\n",
       "      <td>0.899759</td>\n",
       "    </tr>\n",
       "    <tr>\n",
       "      <th>SepalLengthCm</th>\n",
       "      <td>0.716676</td>\n",
       "      <td>1.000000</td>\n",
       "      <td>-0.109369</td>\n",
       "      <td>0.871754</td>\n",
       "      <td>0.817954</td>\n",
       "    </tr>\n",
       "    <tr>\n",
       "      <th>SepalWidthCm</th>\n",
       "      <td>-0.397729</td>\n",
       "      <td>-0.109369</td>\n",
       "      <td>1.000000</td>\n",
       "      <td>-0.420516</td>\n",
       "      <td>-0.356544</td>\n",
       "    </tr>\n",
       "    <tr>\n",
       "      <th>PetalLengthCm</th>\n",
       "      <td>0.882747</td>\n",
       "      <td>0.871754</td>\n",
       "      <td>-0.420516</td>\n",
       "      <td>1.000000</td>\n",
       "      <td>0.962757</td>\n",
       "    </tr>\n",
       "    <tr>\n",
       "      <th>PetalWidthCm</th>\n",
       "      <td>0.899759</td>\n",
       "      <td>0.817954</td>\n",
       "      <td>-0.356544</td>\n",
       "      <td>0.962757</td>\n",
       "      <td>1.000000</td>\n",
       "    </tr>\n",
       "  </tbody>\n",
       "</table>\n",
       "</div>"
      ],
      "text/plain": [
       "                     Id  SepalLengthCm  SepalWidthCm  PetalLengthCm  \\\n",
       "Id             1.000000       0.716676     -0.397729       0.882747   \n",
       "SepalLengthCm  0.716676       1.000000     -0.109369       0.871754   \n",
       "SepalWidthCm  -0.397729      -0.109369      1.000000      -0.420516   \n",
       "PetalLengthCm  0.882747       0.871754     -0.420516       1.000000   \n",
       "PetalWidthCm   0.899759       0.817954     -0.356544       0.962757   \n",
       "\n",
       "               PetalWidthCm  \n",
       "Id                 0.899759  \n",
       "SepalLengthCm      0.817954  \n",
       "SepalWidthCm      -0.356544  \n",
       "PetalLengthCm      0.962757  \n",
       "PetalWidthCm       1.000000  "
      ]
     },
     "execution_count": 8,
     "metadata": {},
     "output_type": "execute_result"
    }
   ],
   "source": [
    "iris.corr()"
   ]
  },
  {
   "cell_type": "markdown",
   "metadata": {},
   "source": [
    "# Checking if there are any null values in the dataset"
   ]
  },
  {
   "cell_type": "code",
   "execution_count": 9,
   "metadata": {},
   "outputs": [
    {
     "data": {
      "text/plain": [
       "Id               0\n",
       "SepalLengthCm    0\n",
       "SepalWidthCm     0\n",
       "PetalLengthCm    0\n",
       "PetalWidthCm     0\n",
       "Species          0\n",
       "dtype: int64"
      ]
     },
     "execution_count": 9,
     "metadata": {},
     "output_type": "execute_result"
    }
   ],
   "source": [
    "iris.isnull().sum()"
   ]
  },
  {
   "cell_type": "code",
   "execution_count": 10,
   "metadata": {},
   "outputs": [
    {
     "name": "stdout",
     "output_type": "stream",
     "text": [
      "0    0\n",
      "1    0\n",
      "2    0\n",
      "3    0\n",
      "4    0\n",
      "Name: Species, dtype: int64\n",
      "Index(['Iris-setosa', 'Iris-versicolor', 'Iris-virginica'], dtype='object')\n"
     ]
    }
   ],
   "source": [
    "factor=pd.factorize(iris['Species'])\n",
    "iris.Species=factor[0]\n",
    "definitions=factor[1]\n",
    "print(iris.Species.head())\n",
    "print(definitions)"
   ]
  },
  {
   "cell_type": "code",
   "execution_count": 11,
   "metadata": {},
   "outputs": [],
   "source": [
    "iris.drop(\"Id\",axis=1, inplace=True)"
   ]
  },
  {
   "cell_type": "markdown",
   "metadata": {},
   "source": [
    "# Training the model using Deep learning"
   ]
  },
  {
   "cell_type": "code",
   "execution_count": 12,
   "metadata": {},
   "outputs": [],
   "source": [
    "X=iris.drop(\"Species\", axis=1)\n",
    "y=iris[\"Species\"]"
   ]
  },
  {
   "cell_type": "code",
   "execution_count": 13,
   "metadata": {},
   "outputs": [
    {
     "name": "stderr",
     "output_type": "stream",
     "text": [
      "C:\\Users\\Robinhood\\Anaconda3\\lib\\site-packages\\sklearn\\cross_validation.py:41: DeprecationWarning: This module was deprecated in version 0.18 in favor of the model_selection module into which all the refactored classes and functions are moved. Also note that the interface of the new CV iterators are different from that of this module. This module will be removed in 0.20.\n",
      "  \"This module will be removed in 0.20.\", DeprecationWarning)\n"
     ]
    }
   ],
   "source": [
    "from sklearn.cross_validation import train_test_split\n",
    "X_train, X_test,y_train, y_test=train_test_split(X, y, test_size=0.25, random_state=1)"
   ]
  },
  {
   "cell_type": "markdown",
   "metadata": {},
   "source": [
    "# Feature Scaling"
   ]
  },
  {
   "cell_type": "code",
   "execution_count": 14,
   "metadata": {},
   "outputs": [],
   "source": [
    "scaler=StandardScaler()\n",
    "X_train = scaler.fit_transform(X_train)\n",
    "X_test = scaler.transform(X_test)"
   ]
  },
  {
   "cell_type": "markdown",
   "metadata": {},
   "source": [
    "# Building an ANN model with 1 Dense Layer"
   ]
  },
  {
   "cell_type": "code",
   "execution_count": 15,
   "metadata": {},
   "outputs": [
    {
     "name": "stdout",
     "output_type": "stream",
     "text": [
      "WARNING:tensorflow:From C:\\Users\\Robinhood\\Anaconda3\\lib\\site-packages\\tensorflow\\python\\framework\\op_def_library.py:263: colocate_with (from tensorflow.python.framework.ops) is deprecated and will be removed in a future version.\n",
      "Instructions for updating:\n",
      "Colocations handled automatically by placer.\n",
      "_________________________________________________________________\n",
      "Layer (type)                 Output Shape              Param #   \n",
      "=================================================================\n",
      "dense_1 (Dense)              (None, 8)                 40        \n",
      "_________________________________________________________________\n",
      "dense_2 (Dense)              (None, 1)                 9         \n",
      "=================================================================\n",
      "Total params: 49\n",
      "Trainable params: 49\n",
      "Non-trainable params: 0\n",
      "_________________________________________________________________\n"
     ]
    }
   ],
   "source": [
    "model=Sequential()\n",
    "model.add(Dense(8, input_dim=4, activation=\"relu\"))\n",
    "model.add(Dense(1, activation=\"sigmoid\"))\n",
    "model.compile(loss=\"binary_crossentropy\",optimizer=\"adam\",metrics=[\"accuracy\"])\n",
    "model.summary()"
   ]
  },
  {
   "cell_type": "markdown",
   "metadata": {},
   "source": [
    "# Training an ANN model"
   ]
  },
  {
   "cell_type": "code",
   "execution_count": 16,
   "metadata": {},
   "outputs": [
    {
     "name": "stdout",
     "output_type": "stream",
     "text": [
      "WARNING:tensorflow:From C:\\Users\\Robinhood\\Anaconda3\\lib\\site-packages\\tensorflow\\python\\ops\\math_ops.py:3066: to_int32 (from tensorflow.python.ops.math_ops) is deprecated and will be removed in a future version.\n",
      "Instructions for updating:\n",
      "Use tf.cast instead.\n",
      "Train on 100 samples, validate on 12 samples\n",
      "Epoch 1/200\n",
      "100/100 [==============================] - 8s 76ms/step - loss: 0.5105 - acc: 0.2300 - val_loss: 0.3270 - val_acc: 0.2500\n",
      "Epoch 2/200\n",
      "100/100 [==============================] - 0s 130us/step - loss: 0.4762 - acc: 0.2300 - val_loss: 0.2838 - val_acc: 0.2500\n",
      "Epoch 3/200\n",
      "100/100 [==============================] - 0s 160us/step - loss: 0.4422 - acc: 0.2300 - val_loss: 0.2408 - val_acc: 0.2500\n",
      "Epoch 4/200\n",
      "100/100 [==============================] - 0s 130us/step - loss: 0.4085 - acc: 0.2400 - val_loss: 0.1989 - val_acc: 0.2500\n",
      "Epoch 5/200\n",
      "100/100 [==============================] - 0s 140us/step - loss: 0.3767 - acc: 0.2400 - val_loss: 0.1567 - val_acc: 0.2500\n",
      "Epoch 6/200\n",
      "100/100 [==============================] - 0s 130us/step - loss: 0.3449 - acc: 0.2500 - val_loss: 0.1160 - val_acc: 0.2500\n",
      "Epoch 7/200\n",
      "100/100 [==============================] - 0s 130us/step - loss: 0.3141 - acc: 0.2700 - val_loss: 0.0747 - val_acc: 0.2500\n",
      "Epoch 8/200\n",
      "100/100 [==============================] - 0s 120us/step - loss: 0.2804 - acc: 0.2700 - val_loss: 0.0332 - val_acc: 0.2500\n",
      "Epoch 9/200\n",
      "100/100 [==============================] - 0s 130us/step - loss: 0.2495 - acc: 0.2700 - val_loss: -0.0081 - val_acc: 0.2500\n",
      "Epoch 10/200\n",
      "100/100 [==============================] - 0s 160us/step - loss: 0.2157 - acc: 0.2700 - val_loss: -0.0481 - val_acc: 0.2500\n",
      "Epoch 11/200\n",
      "100/100 [==============================] - 0s 170us/step - loss: 0.1807 - acc: 0.2800 - val_loss: -0.0880 - val_acc: 0.2500\n",
      "Epoch 12/200\n",
      "100/100 [==============================] - 0s 170us/step - loss: 0.1485 - acc: 0.2900 - val_loss: -0.1301 - val_acc: 0.2500\n",
      "Epoch 13/200\n",
      "100/100 [==============================] - 0s 170us/step - loss: 0.1138 - acc: 0.3000 - val_loss: -0.1729 - val_acc: 0.2500\n",
      "Epoch 14/200\n",
      "100/100 [==============================] - 0s 120us/step - loss: 0.0816 - acc: 0.3000 - val_loss: -0.2171 - val_acc: 0.2500\n",
      "Epoch 15/200\n",
      "100/100 [==============================] - 0s 170us/step - loss: 0.0480 - acc: 0.3100 - val_loss: -0.2581 - val_acc: 0.2500\n",
      "Epoch 16/200\n",
      "100/100 [==============================] - 0s 170us/step - loss: 0.0151 - acc: 0.3100 - val_loss: -0.2978 - val_acc: 0.2500\n",
      "Epoch 17/200\n",
      "100/100 [==============================] - 0s 120us/step - loss: -0.0154 - acc: 0.3100 - val_loss: -0.3397 - val_acc: 0.2500\n",
      "Epoch 18/200\n",
      "100/100 [==============================] - 0s 140us/step - loss: -0.0459 - acc: 0.3100 - val_loss: -0.3795 - val_acc: 0.2500\n",
      "Epoch 19/200\n",
      "100/100 [==============================] - 0s 120us/step - loss: -0.0772 - acc: 0.3100 - val_loss: -0.4175 - val_acc: 0.2500\n",
      "Epoch 20/200\n",
      "100/100 [==============================] - 0s 90us/step - loss: -0.1050 - acc: 0.3100 - val_loss: -0.4546 - val_acc: 0.2500\n",
      "Epoch 21/200\n",
      "100/100 [==============================] - 0s 80us/step - loss: -0.1322 - acc: 0.3100 - val_loss: -0.4899 - val_acc: 0.2500\n",
      "Epoch 22/200\n",
      "100/100 [==============================] - 0s 70us/step - loss: -0.1586 - acc: 0.3100 - val_loss: -0.5255 - val_acc: 0.2500\n",
      "Epoch 23/200\n",
      "100/100 [==============================] - 0s 100us/step - loss: -0.1865 - acc: 0.3100 - val_loss: -0.5618 - val_acc: 0.2500\n",
      "Epoch 24/200\n",
      "100/100 [==============================] - 0s 80us/step - loss: -0.2115 - acc: 0.3100 - val_loss: -0.5999 - val_acc: 0.2500\n",
      "Epoch 25/200\n",
      "100/100 [==============================] - 0s 110us/step - loss: -0.2421 - acc: 0.3100 - val_loss: -0.6362 - val_acc: 0.2500\n",
      "Epoch 26/200\n",
      "100/100 [==============================] - 0s 230us/step - loss: -0.2709 - acc: 0.3100 - val_loss: -0.6757 - val_acc: 0.2500\n",
      "Epoch 27/200\n",
      "100/100 [==============================] - 0s 110us/step - loss: -0.2998 - acc: 0.3100 - val_loss: -0.7159 - val_acc: 0.2500\n",
      "Epoch 28/200\n",
      "100/100 [==============================] - 0s 120us/step - loss: -0.3294 - acc: 0.3100 - val_loss: -0.7577 - val_acc: 0.2500\n",
      "Epoch 29/200\n",
      "100/100 [==============================] - 0s 160us/step - loss: -0.3607 - acc: 0.3100 - val_loss: -0.7993 - val_acc: 0.2500\n",
      "Epoch 30/200\n",
      "100/100 [==============================] - 0s 110us/step - loss: -0.3907 - acc: 0.3100 - val_loss: -0.8376 - val_acc: 0.2500\n",
      "Epoch 31/200\n",
      "100/100 [==============================] - 0s 150us/step - loss: -0.4197 - acc: 0.3100 - val_loss: -0.8753 - val_acc: 0.2500\n",
      "Epoch 32/200\n",
      "100/100 [==============================] - 0s 100us/step - loss: -0.4469 - acc: 0.3100 - val_loss: -0.9140 - val_acc: 0.2500\n",
      "Epoch 33/200\n",
      "100/100 [==============================] - 0s 130us/step - loss: -0.4748 - acc: 0.3100 - val_loss: -0.9547 - val_acc: 0.2500\n",
      "Epoch 34/200\n",
      "100/100 [==============================] - 0s 90us/step - loss: -0.5050 - acc: 0.3100 - val_loss: -0.9953 - val_acc: 0.2500\n",
      "Epoch 35/200\n",
      "100/100 [==============================] - 0s 150us/step - loss: -0.5339 - acc: 0.3100 - val_loss: -1.0346 - val_acc: 0.2500\n",
      "Epoch 36/200\n",
      "100/100 [==============================] - 0s 310us/step - loss: -0.5615 - acc: 0.3100 - val_loss: -1.0748 - val_acc: 0.2500\n",
      "Epoch 37/200\n",
      "100/100 [==============================] - 0s 230us/step - loss: -0.5914 - acc: 0.3100 - val_loss: -1.1134 - val_acc: 0.2500\n",
      "Epoch 38/200\n",
      "100/100 [==============================] - 0s 260us/step - loss: -0.6195 - acc: 0.3100 - val_loss: -1.1537 - val_acc: 0.2500\n",
      "Epoch 39/200\n",
      "100/100 [==============================] - 0s 120us/step - loss: -0.6488 - acc: 0.3100 - val_loss: -1.1934 - val_acc: 0.2500\n",
      "Epoch 40/200\n",
      "100/100 [==============================] - ETA: 0s - loss: -0.7949 - acc: 0.31 - 0s 130us/step - loss: -0.6780 - acc: 0.3100 - val_loss: -1.2333 - val_acc: 0.2500\n",
      "Epoch 41/200\n",
      "100/100 [==============================] - 0s 140us/step - loss: -0.7085 - acc: 0.3100 - val_loss: -1.2734 - val_acc: 0.2500\n",
      "Epoch 42/200\n",
      "100/100 [==============================] - 0s 160us/step - loss: -0.7380 - acc: 0.3100 - val_loss: -1.3158 - val_acc: 0.2500\n",
      "Epoch 43/200\n",
      "100/100 [==============================] - 0s 110us/step - loss: -0.7692 - acc: 0.3100 - val_loss: -1.3573 - val_acc: 0.2500\n",
      "Epoch 44/200\n",
      "100/100 [==============================] - 0s 120us/step - loss: -0.7980 - acc: 0.3100 - val_loss: -1.3985 - val_acc: 0.2500\n",
      "Epoch 45/200\n",
      "100/100 [==============================] - 0s 130us/step - loss: -0.8303 - acc: 0.3100 - val_loss: -1.4382 - val_acc: 0.2500\n",
      "Epoch 46/200\n",
      "100/100 [==============================] - 0s 140us/step - loss: -0.8620 - acc: 0.3100 - val_loss: -1.4814 - val_acc: 0.2500\n",
      "Epoch 47/200\n",
      "100/100 [==============================] - 0s 120us/step - loss: -0.8932 - acc: 0.3100 - val_loss: -1.5294 - val_acc: 0.2500\n",
      "Epoch 48/200\n",
      "100/100 [==============================] - 0s 100us/step - loss: -0.9277 - acc: 0.3100 - val_loss: -1.5786 - val_acc: 0.2500\n",
      "Epoch 49/200\n",
      "100/100 [==============================] - 0s 220us/step - loss: -0.9668 - acc: 0.3100 - val_loss: -1.6265 - val_acc: 0.2500\n",
      "Epoch 50/200\n",
      "100/100 [==============================] - 0s 120us/step - loss: -1.0024 - acc: 0.3100 - val_loss: -1.6730 - val_acc: 0.3333\n",
      "Epoch 51/200\n",
      "100/100 [==============================] - 0s 130us/step - loss: -1.0364 - acc: 0.3200 - val_loss: -1.7186 - val_acc: 0.3333\n",
      "Epoch 52/200\n",
      "100/100 [==============================] - 0s 140us/step - loss: -1.0710 - acc: 0.3200 - val_loss: -1.7663 - val_acc: 0.3333\n",
      "Epoch 53/200\n",
      "100/100 [==============================] - 0s 140us/step - loss: -1.1091 - acc: 0.3200 - val_loss: -1.8173 - val_acc: 0.3333\n",
      "Epoch 54/200\n",
      "100/100 [==============================] - 0s 150us/step - loss: -1.1461 - acc: 0.3200 - val_loss: -1.8675 - val_acc: 0.3333\n",
      "Epoch 55/200\n",
      "100/100 [==============================] - 0s 120us/step - loss: -1.1845 - acc: 0.3200 - val_loss: -1.9153 - val_acc: 0.3333\n",
      "Epoch 56/200\n",
      "100/100 [==============================] - 0s 170us/step - loss: -1.2212 - acc: 0.3300 - val_loss: -1.9617 - val_acc: 0.3333\n",
      "Epoch 57/200\n",
      "100/100 [==============================] - 0s 100us/step - loss: -1.2562 - acc: 0.3600 - val_loss: -2.0094 - val_acc: 0.3333\n",
      "Epoch 58/200\n"
     ]
    },
    {
     "name": "stdout",
     "output_type": "stream",
     "text": [
      "100/100 [==============================] - 0s 120us/step - loss: -1.2931 - acc: 0.3700 - val_loss: -2.0556 - val_acc: 0.3333\n",
      "Epoch 59/200\n",
      "100/100 [==============================] - 0s 100us/step - loss: -1.3298 - acc: 0.3900 - val_loss: -2.1024 - val_acc: 0.3333\n",
      "Epoch 60/200\n",
      "100/100 [==============================] - 0s 110us/step - loss: -1.3663 - acc: 0.4000 - val_loss: -2.1538 - val_acc: 0.3333\n",
      "Epoch 61/200\n",
      "100/100 [==============================] - 0s 120us/step - loss: -1.4048 - acc: 0.4100 - val_loss: -2.2045 - val_acc: 0.3333\n",
      "Epoch 62/200\n",
      "100/100 [==============================] - ETA: 0s - loss: -1.1848 - acc: 0.37 - 0s 280us/step - loss: -1.4448 - acc: 0.4300 - val_loss: -2.2530 - val_acc: 0.3333\n",
      "Epoch 63/200\n",
      "100/100 [==============================] - 0s 270us/step - loss: -1.4803 - acc: 0.4500 - val_loss: -2.3019 - val_acc: 0.3333\n",
      "Epoch 64/200\n",
      "100/100 [==============================] - 0s 310us/step - loss: -1.5172 - acc: 0.4600 - val_loss: -2.3502 - val_acc: 0.4167\n",
      "Epoch 65/200\n",
      "100/100 [==============================] - 0s 340us/step - loss: -1.5527 - acc: 0.4900 - val_loss: -2.3981 - val_acc: 0.4167\n",
      "Epoch 66/200\n",
      "100/100 [==============================] - 0s 170us/step - loss: -1.5909 - acc: 0.4900 - val_loss: -2.4442 - val_acc: 0.4167\n",
      "Epoch 67/200\n",
      "100/100 [==============================] - 0s 120us/step - loss: -1.6254 - acc: 0.5200 - val_loss: -2.4893 - val_acc: 0.4167\n",
      "Epoch 68/200\n",
      "100/100 [==============================] - 0s 150us/step - loss: -1.6617 - acc: 0.5300 - val_loss: -2.5350 - val_acc: 0.4167\n",
      "Epoch 69/200\n",
      "100/100 [==============================] - 0s 130us/step - loss: -1.6945 - acc: 0.5500 - val_loss: -2.5826 - val_acc: 0.4167\n",
      "Epoch 70/200\n",
      "100/100 [==============================] - 0s 120us/step - loss: -1.7312 - acc: 0.5600 - val_loss: -2.6278 - val_acc: 0.4167\n",
      "Epoch 71/200\n",
      "100/100 [==============================] - 0s 130us/step - loss: -1.7663 - acc: 0.5600 - val_loss: -2.6737 - val_acc: 0.5000\n",
      "Epoch 72/200\n",
      "100/100 [==============================] - 0s 150us/step - loss: -1.8018 - acc: 0.5700 - val_loss: -2.7242 - val_acc: 0.5000\n",
      "Epoch 73/200\n",
      "100/100 [==============================] - 0s 100us/step - loss: -1.8438 - acc: 0.5700 - val_loss: -2.7743 - val_acc: 0.5000\n",
      "Epoch 74/200\n",
      "100/100 [==============================] - 0s 150us/step - loss: -1.8806 - acc: 0.5900 - val_loss: -2.8256 - val_acc: 0.5000\n",
      "Epoch 75/200\n",
      "100/100 [==============================] - 0s 150us/step - loss: -1.9195 - acc: 0.6000 - val_loss: -2.8774 - val_acc: 0.5000\n",
      "Epoch 76/200\n",
      "100/100 [==============================] - 0s 210us/step - loss: -1.9612 - acc: 0.6000 - val_loss: -2.9297 - val_acc: 0.5000\n",
      "Epoch 77/200\n",
      "100/100 [==============================] - 0s 140us/step - loss: -2.0015 - acc: 0.6000 - val_loss: -2.9857 - val_acc: 0.5000\n",
      "Epoch 78/200\n",
      "100/100 [==============================] - 0s 150us/step - loss: -2.0446 - acc: 0.6000 - val_loss: -3.0411 - val_acc: 0.5000\n",
      "Epoch 79/200\n",
      "100/100 [==============================] - 0s 110us/step - loss: -2.0887 - acc: 0.6000 - val_loss: -3.0977 - val_acc: 0.5000\n",
      "Epoch 80/200\n",
      "100/100 [==============================] - 0s 130us/step - loss: -2.1304 - acc: 0.6000 - val_loss: -3.1544 - val_acc: 0.5000\n",
      "Epoch 81/200\n",
      "100/100 [==============================] - 0s 130us/step - loss: -2.1732 - acc: 0.6000 - val_loss: -3.2113 - val_acc: 0.5000\n",
      "Epoch 82/200\n",
      "100/100 [==============================] - 0s 130us/step - loss: -2.2192 - acc: 0.6200 - val_loss: -3.2671 - val_acc: 0.5000\n",
      "Epoch 83/200\n",
      "100/100 [==============================] - 0s 120us/step - loss: -2.2612 - acc: 0.6200 - val_loss: -3.3249 - val_acc: 0.5000\n",
      "Epoch 84/200\n",
      "100/100 [==============================] - 0s 150us/step - loss: -2.3082 - acc: 0.6300 - val_loss: -3.3844 - val_acc: 0.5000\n",
      "Epoch 85/200\n",
      "100/100 [==============================] - 0s 130us/step - loss: -2.3547 - acc: 0.6300 - val_loss: -3.4452 - val_acc: 0.5000\n",
      "Epoch 86/200\n",
      "100/100 [==============================] - 0s 90us/step - loss: -2.4019 - acc: 0.6300 - val_loss: -3.5107 - val_acc: 0.5000\n",
      "Epoch 87/200\n",
      "100/100 [==============================] - 0s 130us/step - loss: -2.4555 - acc: 0.6300 - val_loss: -3.5751 - val_acc: 0.5000\n",
      "Epoch 88/200\n",
      "100/100 [==============================] - 0s 110us/step - loss: -2.5040 - acc: 0.6300 - val_loss: -3.6390 - val_acc: 0.5000\n",
      "Epoch 89/200\n",
      "100/100 [==============================] - 0s 150us/step - loss: -2.5557 - acc: 0.6300 - val_loss: -3.7004 - val_acc: 0.5000\n",
      "Epoch 90/200\n",
      "100/100 [==============================] - 0s 140us/step - loss: -2.6039 - acc: 0.6300 - val_loss: -3.7646 - val_acc: 0.5000\n",
      "Epoch 91/200\n",
      "100/100 [==============================] - 0s 130us/step - loss: -2.6552 - acc: 0.6400 - val_loss: -3.8333 - val_acc: 0.5000\n",
      "Epoch 92/200\n",
      "100/100 [==============================] - 0s 120us/step - loss: -2.7061 - acc: 0.6400 - val_loss: -3.8976 - val_acc: 0.5000\n",
      "Epoch 93/200\n",
      "100/100 [==============================] - 0s 110us/step - loss: -2.7610 - acc: 0.6400 - val_loss: -3.9633 - val_acc: 0.5000\n",
      "Epoch 94/200\n",
      "100/100 [==============================] - 0s 90us/step - loss: -2.8091 - acc: 0.6400 - val_loss: -4.0351 - val_acc: 0.5000\n",
      "Epoch 95/200\n",
      "100/100 [==============================] - 0s 140us/step - loss: -2.8655 - acc: 0.6400 - val_loss: -4.1013 - val_acc: 0.5000\n",
      "Epoch 96/200\n",
      "100/100 [==============================] - 0s 150us/step - loss: -2.9143 - acc: 0.6400 - val_loss: -4.1649 - val_acc: 0.5000\n",
      "Epoch 97/200\n",
      "100/100 [==============================] - 0s 140us/step - loss: -2.9679 - acc: 0.6400 - val_loss: -4.2304 - val_acc: 0.5000\n",
      "Epoch 98/200\n",
      "100/100 [==============================] - 0s 90us/step - loss: -3.0177 - acc: 0.6400 - val_loss: -4.2961 - val_acc: 0.5000\n",
      "Epoch 99/200\n",
      "100/100 [==============================] - 0s 140us/step - loss: -3.0691 - acc: 0.6400 - val_loss: -4.3679 - val_acc: 0.5000\n",
      "Epoch 100/200\n",
      "100/100 [==============================] - 0s 120us/step - loss: -3.1241 - acc: 0.6400 - val_loss: -4.4382 - val_acc: 0.5000\n",
      "Epoch 101/200\n",
      "100/100 [==============================] - 0s 140us/step - loss: -3.1807 - acc: 0.6400 - val_loss: -4.5081 - val_acc: 0.5000\n",
      "Epoch 102/200\n",
      "100/100 [==============================] - 0s 105us/step - loss: -3.2342 - acc: 0.6400 - val_loss: -4.5765 - val_acc: 0.5000\n",
      "Epoch 103/200\n",
      "100/100 [==============================] - 0s 100us/step - loss: -3.2857 - acc: 0.6400 - val_loss: -4.6514 - val_acc: 0.5000\n",
      "Epoch 104/200\n",
      "100/100 [==============================] - 0s 120us/step - loss: -3.3407 - acc: 0.6400 - val_loss: -4.7282 - val_acc: 0.5000\n",
      "Epoch 105/200\n",
      "100/100 [==============================] - 0s 140us/step - loss: -3.3966 - acc: 0.6400 - val_loss: -4.8074 - val_acc: 0.5000\n",
      "Epoch 106/200\n",
      "100/100 [==============================] - 0s 130us/step - loss: -3.4577 - acc: 0.6400 - val_loss: -4.8859 - val_acc: 0.5000\n",
      "Epoch 107/200\n",
      "100/100 [==============================] - 0s 120us/step - loss: -3.5148 - acc: 0.6400 - val_loss: -4.9617 - val_acc: 0.5000\n",
      "Epoch 108/200\n",
      "100/100 [==============================] - 0s 90us/step - loss: -3.5756 - acc: 0.6400 - val_loss: -5.0375 - val_acc: 0.5000\n",
      "Epoch 109/200\n",
      "100/100 [==============================] - 0s 120us/step - loss: -3.6259 - acc: 0.6400 - val_loss: -5.1175 - val_acc: 0.5000\n",
      "Epoch 110/200\n",
      "100/100 [==============================] - 0s 110us/step - loss: -3.6910 - acc: 0.6400 - val_loss: -5.1936 - val_acc: 0.5000\n",
      "Epoch 111/200\n",
      "100/100 [==============================] - 0s 160us/step - loss: -3.7495 - acc: 0.6400 - val_loss: -5.2713 - val_acc: 0.5000\n",
      "Epoch 112/200\n",
      "100/100 [==============================] - 0s 140us/step - loss: -3.8033 - acc: 0.6400 - val_loss: -5.3473 - val_acc: 0.5000\n",
      "Epoch 113/200\n",
      "100/100 [==============================] - 0s 110us/step - loss: -3.8559 - acc: 0.6400 - val_loss: -5.4288 - val_acc: 0.5000\n",
      "Epoch 114/200\n",
      "100/100 [==============================] - 0s 150us/step - loss: -3.9211 - acc: 0.6400 - val_loss: -5.5064 - val_acc: 0.5000\n",
      "Epoch 115/200\n",
      "100/100 [==============================] - 0s 110us/step - loss: -3.9810 - acc: 0.6400 - val_loss: -5.5832 - val_acc: 0.5000\n",
      "Epoch 116/200\n",
      "100/100 [==============================] - 0s 140us/step - loss: -4.0230 - acc: 0.6400 - val_loss: -5.6637 - val_acc: 0.5000\n",
      "Epoch 117/200\n"
     ]
    },
    {
     "name": "stdout",
     "output_type": "stream",
     "text": [
      "100/100 [==============================] - 0s 300us/step - loss: -4.0802 - acc: 0.6400 - val_loss: -5.7431 - val_acc: 0.5000\n",
      "Epoch 118/200\n",
      "100/100 [==============================] - 0s 150us/step - loss: -4.1271 - acc: 0.6400 - val_loss: -5.8223 - val_acc: 0.5000\n",
      "Epoch 119/200\n",
      "100/100 [==============================] - 0s 100us/step - loss: -4.1745 - acc: 0.6400 - val_loss: -5.8994 - val_acc: 0.5000\n",
      "Epoch 120/200\n",
      "100/100 [==============================] - 0s 91us/step - loss: -4.2257 - acc: 0.6400 - val_loss: -5.9687 - val_acc: 0.5000\n",
      "Epoch 121/200\n",
      "100/100 [==============================] - 0s 100us/step - loss: -4.2823 - acc: 0.6400 - val_loss: -6.0443 - val_acc: 0.5000\n",
      "Epoch 122/200\n",
      "100/100 [==============================] - 0s 110us/step - loss: -4.3236 - acc: 0.6400 - val_loss: -6.1297 - val_acc: 0.5000\n",
      "Epoch 123/200\n",
      "100/100 [==============================] - 0s 110us/step - loss: -4.3752 - acc: 0.6400 - val_loss: -6.2099 - val_acc: 0.5000\n",
      "Epoch 124/200\n",
      "100/100 [==============================] - 0s 90us/step - loss: -4.4205 - acc: 0.6400 - val_loss: -6.2824 - val_acc: 0.5000\n",
      "Epoch 125/200\n",
      "100/100 [==============================] - 0s 100us/step - loss: -4.4643 - acc: 0.6400 - val_loss: -6.3562 - val_acc: 0.5000\n",
      "Epoch 126/200\n",
      "100/100 [==============================] - 0s 90us/step - loss: -4.5044 - acc: 0.6400 - val_loss: -6.4286 - val_acc: 0.5000\n",
      "Epoch 127/200\n",
      "100/100 [==============================] - 0s 132us/step - loss: -4.5513 - acc: 0.6400 - val_loss: -6.4968 - val_acc: 0.5000\n",
      "Epoch 128/200\n",
      "100/100 [==============================] - 0s 130us/step - loss: -4.5820 - acc: 0.6400 - val_loss: -6.5567 - val_acc: 0.5000\n",
      "Epoch 129/200\n",
      "100/100 [==============================] - 0s 130us/step - loss: -4.6286 - acc: 0.6400 - val_loss: -6.6503 - val_acc: 0.5000\n",
      "Epoch 130/200\n",
      "100/100 [==============================] - 0s 140us/step - loss: -4.6639 - acc: 0.6400 - val_loss: -6.6848 - val_acc: 0.5000\n",
      "Epoch 131/200\n",
      "100/100 [==============================] - 0s 120us/step - loss: -4.6991 - acc: 0.6400 - val_loss: -6.7478 - val_acc: 0.5000\n",
      "Epoch 132/200\n",
      "100/100 [==============================] - 0s 110us/step - loss: -4.7429 - acc: 0.6400 - val_loss: -6.8822 - val_acc: 0.5000\n",
      "Epoch 133/200\n",
      "100/100 [==============================] - 0s 110us/step - loss: -4.7787 - acc: 0.6400 - val_loss: -6.9114 - val_acc: 0.5000\n",
      "Epoch 134/200\n",
      "100/100 [==============================] - 0s 130us/step - loss: -4.8325 - acc: 0.6400 - val_loss: -6.9712 - val_acc: 0.5000\n",
      "Epoch 135/200\n",
      "100/100 [==============================] - 0s 110us/step - loss: -4.8688 - acc: 0.6400 - val_loss: -7.0541 - val_acc: 0.5000\n",
      "Epoch 136/200\n",
      "100/100 [==============================] - 0s 90us/step - loss: -4.9079 - acc: 0.6400 - val_loss: -7.1251 - val_acc: 0.5000\n",
      "Epoch 137/200\n",
      "100/100 [==============================] - 0s 100us/step - loss: -4.9489 - acc: 0.6400 - val_loss: -7.1656 - val_acc: 0.5000\n",
      "Epoch 138/200\n",
      "100/100 [==============================] - 0s 110us/step - loss: -4.9873 - acc: 0.6400 - val_loss: -7.2605 - val_acc: 0.5000\n",
      "Epoch 139/200\n",
      "100/100 [==============================] - 0s 100us/step - loss: -5.0194 - acc: 0.6400 - val_loss: -7.2836 - val_acc: 0.5000\n",
      "Epoch 140/200\n",
      "100/100 [==============================] - 0s 130us/step - loss: -5.0570 - acc: 0.6400 - val_loss: -7.3482 - val_acc: 0.5000\n",
      "Epoch 141/200\n",
      "100/100 [==============================] - 0s 100us/step - loss: -5.0713 - acc: 0.6400 - val_loss: -7.4195 - val_acc: 0.5000\n",
      "Epoch 142/200\n",
      "100/100 [==============================] - 0s 110us/step - loss: -5.1048 - acc: 0.6400 - val_loss: -7.4094 - val_acc: 0.5000\n",
      "Epoch 143/200\n",
      "100/100 [==============================] - 0s 90us/step - loss: -5.1321 - acc: 0.6400 - val_loss: -7.4567 - val_acc: 0.5000\n",
      "Epoch 144/200\n",
      "100/100 [==============================] - 0s 120us/step - loss: -5.1437 - acc: 0.6400 - val_loss: -7.5130 - val_acc: 0.5000\n",
      "Epoch 145/200\n",
      "100/100 [==============================] - 0s 100us/step - loss: -5.1700 - acc: 0.6400 - val_loss: -7.4755 - val_acc: 0.5000\n",
      "Epoch 146/200\n",
      "100/100 [==============================] - 0s 130us/step - loss: -5.1830 - acc: 0.6400 - val_loss: -7.4363 - val_acc: 0.5000\n",
      "Epoch 147/200\n",
      "100/100 [==============================] - 0s 120us/step - loss: -5.2060 - acc: 0.6400 - val_loss: -7.5725 - val_acc: 0.5000\n",
      "Epoch 148/200\n",
      "100/100 [==============================] - 0s 180us/step - loss: -5.2208 - acc: 0.6400 - val_loss: -7.5782 - val_acc: 0.5000\n",
      "Epoch 149/200\n",
      "100/100 [==============================] - 0s 130us/step - loss: -5.2400 - acc: 0.6400 - val_loss: -7.5685 - val_acc: 0.5000\n",
      "Epoch 150/200\n",
      "100/100 [==============================] - 0s 140us/step - loss: -5.2384 - acc: 0.6400 - val_loss: -7.6089 - val_acc: 0.5000\n",
      "Epoch 151/200\n",
      "100/100 [==============================] - 0s 150us/step - loss: -5.2646 - acc: 0.6400 - val_loss: -7.6311 - val_acc: 0.5000\n",
      "Epoch 152/200\n",
      "100/100 [==============================] - 0s 120us/step - loss: -5.2794 - acc: 0.6400 - val_loss: -7.6387 - val_acc: 0.5000\n",
      "Epoch 153/200\n",
      "100/100 [==============================] - 0s 150us/step - loss: -5.2889 - acc: 0.6400 - val_loss: -7.6582 - val_acc: 0.5000\n",
      "Epoch 154/200\n",
      "100/100 [==============================] - 0s 150us/step - loss: -5.2993 - acc: 0.6400 - val_loss: -7.6743 - val_acc: 0.5000\n",
      "Epoch 155/200\n",
      "100/100 [==============================] - 0s 140us/step - loss: -5.3004 - acc: 0.6400 - val_loss: -7.6752 - val_acc: 0.5000\n",
      "Epoch 156/200\n",
      "100/100 [==============================] - 0s 160us/step - loss: -5.3154 - acc: 0.6400 - val_loss: -7.7000 - val_acc: 0.5000\n",
      "Epoch 157/200\n",
      "100/100 [==============================] - 0s 130us/step - loss: -5.3331 - acc: 0.6400 - val_loss: -7.7194 - val_acc: 0.5000\n",
      "Epoch 158/200\n",
      "100/100 [==============================] - 0s 100us/step - loss: -5.3271 - acc: 0.6500 - val_loss: -7.7201 - val_acc: 0.5000\n",
      "Epoch 159/200\n",
      "100/100 [==============================] - 0s 90us/step - loss: -5.3524 - acc: 0.6500 - val_loss: -7.7110 - val_acc: 0.5000\n",
      "Epoch 160/200\n",
      "100/100 [==============================] - 0s 130us/step - loss: -5.3548 - acc: 0.6500 - val_loss: -7.7665 - val_acc: 0.5000\n",
      "Epoch 161/200\n",
      "100/100 [==============================] - 0s 130us/step - loss: -5.3556 - acc: 0.6500 - val_loss: -7.7801 - val_acc: 0.5000\n",
      "Epoch 162/200\n",
      "100/100 [==============================] - 0s 130us/step - loss: -5.3668 - acc: 0.6500 - val_loss: -7.7808 - val_acc: 0.5000\n",
      "Epoch 163/200\n",
      "100/100 [==============================] - 0s 180us/step - loss: -5.3788 - acc: 0.6500 - val_loss: -7.7814 - val_acc: 0.5000\n",
      "Epoch 164/200\n",
      "100/100 [==============================] - 0s 130us/step - loss: -5.3759 - acc: 0.6500 - val_loss: -7.7821 - val_acc: 0.5000\n",
      "Epoch 165/200\n",
      "100/100 [==============================] - 0s 90us/step - loss: -5.3889 - acc: 0.6500 - val_loss: -7.8165 - val_acc: 0.5000\n",
      "Epoch 166/200\n",
      "100/100 [==============================] - 0s 90us/step - loss: -5.3923 - acc: 0.6500 - val_loss: -7.8170 - val_acc: 0.5000\n",
      "Epoch 167/200\n",
      "100/100 [==============================] - 0s 90us/step - loss: -5.4012 - acc: 0.6500 - val_loss: -7.7990 - val_acc: 0.5000\n",
      "Epoch 168/200\n",
      "100/100 [==============================] - 0s 130us/step - loss: -5.4093 - acc: 0.6500 - val_loss: -7.8759 - val_acc: 0.5000\n",
      "Epoch 169/200\n",
      "100/100 [==============================] - 0s 140us/step - loss: -5.4071 - acc: 0.6500 - val_loss: -7.8764 - val_acc: 0.5000\n",
      "Epoch 170/200\n",
      "100/100 [==============================] - ETA: 0s - loss: -5.1982 - acc: 0.65 - 0s 100us/step - loss: -5.4156 - acc: 0.6500 - val_loss: -7.8769 - val_acc: 0.5000\n",
      "Epoch 171/200\n",
      "100/100 [==============================] - 0s 130us/step - loss: -5.4213 - acc: 0.6500 - val_loss: -7.8774 - val_acc: 0.5000\n",
      "Epoch 172/200\n",
      "100/100 [==============================] - 0s 130us/step - loss: -5.4216 - acc: 0.6500 - val_loss: -7.8779 - val_acc: 0.5000\n",
      "Epoch 173/200\n",
      "100/100 [==============================] - 0s 140us/step - loss: -5.4273 - acc: 0.6500 - val_loss: -7.8784 - val_acc: 0.5000\n",
      "Epoch 174/200\n",
      "100/100 [==============================] - 0s 100us/step - loss: -5.4364 - acc: 0.6500 - val_loss: -7.8789 - val_acc: 0.5000\n",
      "Epoch 175/200\n",
      "100/100 [==============================] - 0s 80us/step - loss: -5.4389 - acc: 0.6500 - val_loss: -7.9372 - val_acc: 0.5000\n"
     ]
    },
    {
     "name": "stdout",
     "output_type": "stream",
     "text": [
      "Epoch 176/200\n",
      "100/100 [==============================] - 0s 110us/step - loss: -5.4382 - acc: 0.6500 - val_loss: -7.9377 - val_acc: 0.5000\n",
      "Epoch 177/200\n",
      "100/100 [==============================] - 0s 230us/step - loss: -5.4464 - acc: 0.6500 - val_loss: -7.9382 - val_acc: 0.5000\n",
      "Epoch 178/200\n",
      "100/100 [==============================] - 0s 120us/step - loss: -5.4515 - acc: 0.6500 - val_loss: -7.8809 - val_acc: 0.5000\n",
      "Epoch 179/200\n",
      "100/100 [==============================] - 0s 130us/step - loss: -5.4525 - acc: 0.6500 - val_loss: -7.9392 - val_acc: 0.5000\n",
      "Epoch 180/200\n",
      "100/100 [==============================] - 0s 140us/step - loss: -5.4573 - acc: 0.6500 - val_loss: -7.9397 - val_acc: 0.5000\n",
      "Epoch 181/200\n",
      "100/100 [==============================] - 0s 240us/step - loss: -5.4581 - acc: 0.6500 - val_loss: -7.9064 - val_acc: 0.5000\n",
      "Epoch 182/200\n",
      "100/100 [==============================] - 0s 150us/step - loss: -5.4646 - acc: 0.6500 - val_loss: -7.9069 - val_acc: 0.5000\n",
      "Epoch 183/200\n",
      "100/100 [==============================] - 0s 120us/step - loss: -5.4584 - acc: 0.6500 - val_loss: -7.9412 - val_acc: 0.5000\n",
      "Epoch 184/200\n",
      "100/100 [==============================] - 0s 140us/step - loss: -5.4721 - acc: 0.6500 - val_loss: -7.9079 - val_acc: 0.5000\n",
      "Epoch 185/200\n",
      "100/100 [==============================] - 0s 100us/step - loss: -5.4750 - acc: 0.6500 - val_loss: -7.9421 - val_acc: 0.5000\n",
      "Epoch 186/200\n",
      "100/100 [==============================] - 0s 120us/step - loss: -5.4758 - acc: 0.6500 - val_loss: -7.9088 - val_acc: 0.5000\n",
      "Epoch 187/200\n",
      "100/100 [==============================] - 0s 120us/step - loss: -5.4768 - acc: 0.6500 - val_loss: -7.9430 - val_acc: 0.5000\n",
      "Epoch 188/200\n",
      "100/100 [==============================] - 0s 120us/step - loss: -5.4786 - acc: 0.6500 - val_loss: -7.9434 - val_acc: 0.5000\n",
      "Epoch 189/200\n",
      "100/100 [==============================] - 0s 130us/step - loss: -5.4873 - acc: 0.6500 - val_loss: -7.9437 - val_acc: 0.5000\n",
      "Epoch 190/200\n",
      "100/100 [==============================] - 0s 120us/step - loss: -5.4919 - acc: 0.6500 - val_loss: -7.9441 - val_acc: 0.5000\n",
      "Epoch 191/200\n",
      "100/100 [==============================] - 0s 100us/step - loss: -5.4947 - acc: 0.6500 - val_loss: -7.9445 - val_acc: 0.5000\n",
      "Epoch 192/200\n",
      "100/100 [==============================] - 0s 100us/step - loss: -5.4993 - acc: 0.6500 - val_loss: -7.9449 - val_acc: 0.5000\n",
      "Epoch 193/200\n",
      "100/100 [==============================] - 0s 100us/step - loss: -5.4957 - acc: 0.6500 - val_loss: -7.8875 - val_acc: 0.5000\n",
      "Epoch 194/200\n",
      "100/100 [==============================] - 0s 130us/step - loss: -5.4945 - acc: 0.6500 - val_loss: -7.9457 - val_acc: 0.5000\n",
      "Epoch 195/200\n",
      "100/100 [==============================] - 0s 130us/step - loss: -5.4961 - acc: 0.6500 - val_loss: -7.9460 - val_acc: 0.5000\n",
      "Epoch 196/200\n",
      "100/100 [==============================] - 0s 200us/step - loss: -5.5035 - acc: 0.6500 - val_loss: -7.9463 - val_acc: 0.5000\n",
      "Epoch 197/200\n",
      "100/100 [==============================] - 0s 120us/step - loss: -5.5057 - acc: 0.6500 - val_loss: -7.9467 - val_acc: 0.5000\n",
      "Epoch 198/200\n",
      "100/100 [==============================] - 0s 110us/step - loss: -5.5022 - acc: 0.6500 - val_loss: -7.9470 - val_acc: 0.5000\n",
      "Epoch 199/200\n",
      "100/100 [==============================] - 0s 120us/step - loss: -5.5107 - acc: 0.6500 - val_loss: -7.9473 - val_acc: 0.5000\n",
      "Epoch 200/200\n",
      "100/100 [==============================] - 0s 120us/step - loss: -5.5089 - acc: 0.6500 - val_loss: -7.9477 - val_acc: 0.5000\n"
     ]
    }
   ],
   "source": [
    "history=model.fit(X_train, y_train, validation_split=0.1, epochs=200, verbose=1)"
   ]
  },
  {
   "cell_type": "code",
   "execution_count": 17,
   "metadata": {},
   "outputs": [
    {
     "data": {
      "image/png": "[encoded data removed]",
      "text/plain": [
       "<Figure size 432x288 with 1 Axes>"
      ]
     },
     "metadata": {},
     "output_type": "display_data"
    }
   ],
   "source": [
    "plt.plot(history.history['acc'])\n",
    "plt.plot(history.history['val_acc'])\n",
    "plt.title('model accuracy')\n",
    "plt.xlabel('accuracy')\n",
    "plt.ylabel('epoch')\n",
    "plt.legend(['train', 'val'], loc='upper left')\n",
    "plt.show()"
   ]
  },
  {
   "cell_type": "code",
   "execution_count": 18,
   "metadata": {},
   "outputs": [
    {
     "data": {
      "image/png": "[encoded data removed]",
      "text/plain": [
       "<Figure size 432x288 with 1 Axes>"
      ]
     },
     "metadata": {},
     "output_type": "display_data"
    }
   ],
   "source": [
    "plt.plot(history.history['loss'])\n",
    "plt.plot(history.history['val_loss'])\n",
    "plt.title('model loss')\n",
    "plt.xlabel('epoch')\n",
    "plt.ylabel('loss')\n",
    "plt.legend(['training loss', 'test loss'], loc='upper left')\n",
    "plt.show()"
   ]
  },
  {
   "cell_type": "markdown",
   "metadata": {},
   "source": [
    "# Accuracy of the Dataset"
   ]
  },
  {
   "cell_type": "code",
   "execution_count": 19,
   "metadata": {},
   "outputs": [
    {
     "name": "stdout",
     "output_type": "stream",
     "text": [
      "112/112 [==============================] - 0s 62us/step\n",
      "Accuracy:63.39\n"
     ]
    }
   ],
   "source": [
    "_,accuracy=model.evaluate(X_train, y_train)\n",
    "print(\"Accuracy:%.2f\"%(accuracy*100))"
   ]
  },
  {
   "cell_type": "markdown",
   "metadata": {},
   "source": [
    "# Calculating F-1 score"
   ]
  },
  {
   "cell_type": "code",
   "execution_count": 20,
   "metadata": {},
   "outputs": [
    {
     "data": {
      "text/html": [
       "<div>\n",
       "<style scoped>\n",
       "    .dataframe tbody tr th:only-of-type {\n",
       "        vertical-align: middle;\n",
       "    }\n",
       "\n",
       "    .dataframe tbody tr th {\n",
       "        vertical-align: top;\n",
       "    }\n",
       "\n",
       "    .dataframe thead th {\n",
       "        text-align: right;\n",
       "    }\n",
       "</style>\n",
       "<table border=\"1\" class=\"dataframe\">\n",
       "  <thead>\n",
       "    <tr style=\"text-align: right;\">\n",
       "      <th></th>\n",
       "      <th>Test accuracy</th>\n",
       "      <th>F1 Score</th>\n",
       "      <th>Total Loss</th>\n",
       "    </tr>\n",
       "  </thead>\n",
       "  <tbody>\n",
       "    <tr>\n",
       "      <th>0</th>\n",
       "      <td>76.316</td>\n",
       "      <td>0.763</td>\n",
       "      <td>-3.751</td>\n",
       "    </tr>\n",
       "  </tbody>\n",
       "</table>\n",
       "</div>"
      ],
      "text/plain": [
       "   Test accuracy  F1 Score  Total Loss\n",
       "0         76.316     0.763      -3.751"
      ]
     },
     "metadata": {},
     "output_type": "display_data"
    }
   ],
   "source": [
    "test_loss=model.evaluate(X_test, y_test, verbose=0)\n",
    "\n",
    "# Calculate evaluation Parameters\n",
    "f1=f1_score(y_test, model.predict_classes(X_test), average='micro')\n",
    "\n",
    "stats=pd.DataFrame({'Test accuracy':\n",
    "                   round(test_loss[1]*100,3),\n",
    "                   'F1 Score' : round(f1,3),\n",
    "                   'Total Loss': round(test_loss[0],3)},\n",
    "                  index=[0])\n",
    "\n",
    "display(stats)"
   ]
  },
  {
   "cell_type": "code",
   "execution_count": null,
   "metadata": {},
   "outputs": [],
   "source": []
  }
 ],
 "metadata": {
  "kernelspec": {
   "display_name": "Python 3",
   "language": "python",
   "name": "python3"
  },
  "language_info": {
   "codemirror_mode": {
    "name": "ipython",
    "version": 3
   },
   "file_extension": ".py",
   "mimetype": "text/x-python",
   "name": "python",
   "nbconvert_exporter": "python",
   "pygments_lexer": "ipython3",
   "version": "3.6.5"
  }
 },
 "nbformat": 4,
 "nbformat_minor": 2
}
